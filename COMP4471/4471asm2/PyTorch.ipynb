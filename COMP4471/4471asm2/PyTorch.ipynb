{
  "cells": [
    {
      "cell_type": "markdown",
      "metadata": {
        "id": "MrlP5bL-E0DK"
      },
      "source": [
        "# Training a ConvNet PyTorch\n",
        "\n",
        "In this notebook, you'll learn how to use the powerful PyTorch framework to specify a conv net architecture and train it on the CIFAR-10 dataset."
      ]
    },
    {
      "cell_type": "code",
      "execution_count": 3,
      "metadata": {
        "id": "HIuo0AR0E0DN"
      },
      "outputs": [],
      "source": [
        "import torch\n",
        "import torch.nn as nn\n",
        "import torch.optim as optim\n",
        "from torch.autograd import Variable\n",
        "from torch.utils.data import DataLoader\n",
        "from torch.utils.data import sampler\n",
        "\n",
        "import torchvision.datasets as dset\n",
        "import torchvision.transforms as T\n",
        "\n",
        "import numpy as np\n",
        "\n",
        "import timeit"
      ]
    },
    {
      "cell_type": "markdown",
      "metadata": {
        "id": "VTio1ptYE0DO"
      },
      "source": [
        "## What's this PyTorch business?\n",
        "\n",
        "You've written a lot of code in this assignment to provide a whole host of neural network functionality. Dropout, Batch Norm, and 2D convolutions are some of the workhorses of deep learning in computer vision. You've also worked hard to make your code efficient and vectorized.\n",
        "\n",
        "For the last part of this assignment, though, we're going to leave behind your beautiful codebase and instead migrate to one of two popular deep learning frameworks: in this instance, PyTorch (or TensorFlow, if you switch over to that notebook). \n",
        "\n",
        "Why?\n",
        "\n",
        "* Our code will now run on GPUs! Much faster training. When using a framework like PyTorch or TensorFlow you can harness the power of the GPU for your own custom neural network architectures without having to write CUDA code directly (which is beyond the scope of this class).\n",
        "* We want you to be ready to use one of these frameworks for your project so you can experiment more efficiently than if you were writing every feature you want to use by hand. \n",
        "* We want you to stand on the shoulders of giants! TensorFlow and PyTorch are both excellent frameworks that will make your lives a lot easier, and now that you understand their guts, you are free to use them :) \n",
        "* We want you to be exposed to the sort of deep learning code you might run into in academia or industry. "
      ]
    },
    {
      "cell_type": "markdown",
      "metadata": {
        "id": "77IjDLxtE0DP"
      },
      "source": [
        "## How will I learn PyTorch?\n",
        "\n",
        "If you've used Torch before, but are new to PyTorch, this tutorial might be of use: http://pytorch.org/tutorials/beginner/former_torchies_tutorial.html\n",
        "\n",
        "Otherwise, this notebook will walk you through much of what you need to do to train models in Torch. See the end of the notebook for some links to helpful tutorials if you want to learn more or need further clarification on topics that aren't fully explained here."
      ]
    },
    {
      "cell_type": "markdown",
      "metadata": {
        "id": "4sQxGj7TE0DP"
      },
      "source": [
        "## Load Datasets\n",
        "\n",
        "We load the CIFAR-10 dataset. This might take a couple minutes the first time you do it, but the files should stay cached after that."
      ]
    },
    {
      "cell_type": "code",
      "execution_count": 4,
      "metadata": {
        "colab": {
          "base_uri": "https://localhost:8080/",
          "height": 120,
          "referenced_widgets": [
            "9c4aa6809cf5483c94916f985721f6de",
            "3b6aa0e79ae344019131c5fbab788293",
            "b7cd0a5f9ff34c1fbf79b06d3f26bb4d",
            "e5c0845c9f6448d2aaf3459fb15f555a",
            "d4397b9d2cc0491fb45e9c62b403b5ad",
            "b4b30a687a6b45ffb91290ca2b95910b",
            "293f2eaff62540afaed5834f56c09689",
            "dbcc09bacdd1489c8568b1e6ff457754",
            "84bfce5486814c30aa028708a19458ed",
            "f90014efb7e6458183d2f7b4e83264f0",
            "cb171a5ba4c84d5c82dd4b29c48ebceb"
          ]
        },
        "id": "yOUh6iqhE0DP",
        "outputId": "8e3ed77e-1089-4712-e3f4-dc318e762c85"
      },
      "outputs": [
        {
          "name": "stdout",
          "output_type": "stream",
          "text": [
            "Downloading https://www.cs.toronto.edu/~kriz/cifar-10-python.tar.gz to ./cs231n/datasets/cifar-10-python.tar.gz\n"
          ]
        },
        {
          "data": {
            "application/vnd.jupyter.widget-view+json": {
              "model_id": "9c4aa6809cf5483c94916f985721f6de",
              "version_major": 2,
              "version_minor": 0
            },
            "text/plain": [
              "  0%|          | 0/170498071 [00:00<?, ?it/s]"
            ]
          },
          "metadata": {},
          "output_type": "display_data"
        },
        {
          "name": "stdout",
          "output_type": "stream",
          "text": [
            "Extracting ./cs231n/datasets/cifar-10-python.tar.gz to ./cs231n/datasets\n",
            "Files already downloaded and verified\n",
            "Files already downloaded and verified\n"
          ]
        }
      ],
      "source": [
        "class ChunkSampler(sampler.Sampler):\n",
        "    \"\"\"Samples elements sequentially from some offset. \n",
        "    Arguments:\n",
        "        num_samples: # of desired datapoints\n",
        "        start: offset where we should start selecting from\n",
        "    \"\"\"\n",
        "    def __init__(self, num_samples, start = 0):\n",
        "        self.num_samples = num_samples\n",
        "        self.start = start\n",
        "\n",
        "    def __iter__(self):\n",
        "        return iter(range(self.start, self.start + self.num_samples))\n",
        "\n",
        "    def __len__(self):\n",
        "        return self.num_samples\n",
        "\n",
        "NUM_TRAIN = 49000\n",
        "NUM_VAL = 1000\n",
        "\n",
        "cifar10_train = dset.CIFAR10('./cs231n/datasets', train=True, download=True,\n",
        "                           transform=T.ToTensor())\n",
        "loader_train = DataLoader(cifar10_train, batch_size=64, sampler=ChunkSampler(NUM_TRAIN, 0))\n",
        "\n",
        "cifar10_val = dset.CIFAR10('./cs231n/datasets', train=True, download=True,\n",
        "                           transform=T.ToTensor())\n",
        "loader_val = DataLoader(cifar10_val, batch_size=64, sampler=ChunkSampler(NUM_VAL, NUM_TRAIN))\n",
        "\n",
        "cifar10_test = dset.CIFAR10('./cs231n/datasets', train=False, download=True,\n",
        "                          transform=T.ToTensor())\n",
        "loader_test = DataLoader(cifar10_test, batch_size=64)\n"
      ]
    },
    {
      "cell_type": "markdown",
      "metadata": {
        "id": "F_dqnacoE0DQ"
      },
      "source": [
        "For now, we're going to use a CPU-friendly datatype. Later, we'll switch to a datatype that will move all our computations to the GPU and measure the speedup."
      ]
    },
    {
      "cell_type": "code",
      "execution_count": 5,
      "metadata": {
        "collapsed": true,
        "id": "loK8XlMpE0DQ"
      },
      "outputs": [],
      "source": [
        "dtype = torch.FloatTensor # the CPU datatype\n",
        "\n",
        "# Constant to control how frequently we print train loss\n",
        "print_every = 100\n",
        "\n",
        "# This is a little utility that we'll use to reset the model\n",
        "# if we want to re-initialize all our parameters\n",
        "def reset(m):\n",
        "    if hasattr(m, 'reset_parameters'):\n",
        "        m.reset_parameters()"
      ]
    },
    {
      "cell_type": "markdown",
      "metadata": {
        "id": "pleHYBWhE0DR"
      },
      "source": [
        "## Example Model\n",
        "\n",
        "### Some assorted tidbits\n",
        "\n",
        "Let's start by looking at a simple model. First, note that PyTorch operates on Tensors, which are n-dimensional arrays functionally analogous to numpy's ndarrays, with the additional feature that they can be used for computations on GPUs.\n",
        "\n",
        "We'll provide you with a Flatten function, which we explain here. Remember that our image data (and more relevantly, our intermediate feature maps) are initially N x C x H x W, where:\n",
        "* N is the number of datapoints\n",
        "* C is the number of channels\n",
        "* H is the height of the intermediate feature map in pixels\n",
        "* W is the height of the intermediate feature map in pixels\n",
        "\n",
        "This is the right way to represent the data when we are doing something like a 2D convolution, that needs spatial understanding of where the intermediate features are relative to each other. When we input  data into fully connected affine layers, however, we want each datapoint to be represented by a single vector -- it's no longer useful to segregate the different channels, rows, and columns of the data. So, we use a \"Flatten\" operation to collapse the C x H x W values per representation into a single long vector. The Flatten function below first reads in the N, C, H, and W values from a given batch of data, and then returns a \"view\" of that data. \"View\" is analogous to numpy's \"reshape\" method: it reshapes x's dimensions to be N x ??, where ?? is allowed to be anything (in this case, it will be C x H x W, but we don't need to specify that explicitly). "
      ]
    },
    {
      "cell_type": "code",
      "execution_count": 6,
      "metadata": {
        "collapsed": true,
        "id": "jEO0uddbE0DR"
      },
      "outputs": [],
      "source": [
        "class Flatten(nn.Module):\n",
        "    def forward(self, x):\n",
        "        N, C, H, W = x.size() # read in N, C, H, W\n",
        "        return x.view(N, -1)  # \"flatten\" the C * H * W values into a single vector per image"
      ]
    },
    {
      "cell_type": "markdown",
      "metadata": {
        "id": "TxWOr13qE0DR"
      },
      "source": [
        "### The example model itself\n",
        "\n",
        "The first step to training your own model is defining its architecture.\n",
        "\n",
        "Here's an example of a convolutional neural network defined in PyTorch -- try to understand what each line is doing, remembering that each layer is composed upon the previous layer. We haven't trained anything yet - that'll come next - for now, we want you to understand how everything gets set up.  nn.Sequential is a container which applies each layer\n",
        "one after the other.\n",
        "\n",
        "In that example, you see 2D convolutional layers (Conv2d), ReLU activations, and fully-connected layers (Linear). You also see the Cross-Entropy loss function, and the Adam optimizer being used. \n",
        "\n",
        "Make sure you understand why the parameters of the Linear layer are 5408 and 10.\n"
      ]
    },
    {
      "cell_type": "code",
      "execution_count": 7,
      "metadata": {
        "id": "jfoc7xqtE0DS"
      },
      "outputs": [],
      "source": [
        "# Here's where we define the architecture of the model... \n",
        "simple_model = nn.Sequential(\n",
        "                nn.Conv2d(3, 32, kernel_size=7, stride=2),\n",
        "                nn.ReLU(inplace=True),\n",
        "                Flatten(), # see above for explanation\n",
        "                nn.Linear(5408, 10), # affine layer\n",
        "              )\n",
        "\n",
        "# Set the type of all data in this model to be FloatTensor \n",
        "simple_model.type(dtype)\n",
        "\n",
        "loss_fn = nn.CrossEntropyLoss().type(dtype)\n",
        "optimizer = optim.Adam(simple_model.parameters(), lr=1e-2) # lr sets the learning rate of the optimizer"
      ]
    },
    {
      "cell_type": "markdown",
      "metadata": {
        "id": "TgVS-_N6E0DS"
      },
      "source": [
        "PyTorch supports many other layer types, loss functions, and optimizers - you will experiment with these next. Here's the official API documentation for these (if any of the parameters used above were unclear, this resource will also be helpful). One note: what we call in the class \"spatial batch norm\" is called \"BatchNorm2D\" in PyTorch.\n",
        "\n",
        "* Layers: http://pytorch.org/docs/nn.html\n",
        "* Activations: http://pytorch.org/docs/nn.html#non-linear-activations\n",
        "* Loss functions: http://pytorch.org/docs/nn.html#loss-functions\n",
        "* Optimizers: http://pytorch.org/docs/optim.html#algorithms"
      ]
    },
    {
      "cell_type": "markdown",
      "metadata": {
        "id": "Fnkl-K6pE0DS"
      },
      "source": [
        "## Training a specific model\n",
        "\n",
        "In this section, we're going to specify a model for you to construct. The goal here isn't to get good performance (that'll be next), but instead to get comfortable with understanding the PyTorch documentation and configuring your own model. \n",
        "\n",
        "Using the code provided above as guidance, and using the following PyTorch documentation, specify a model with the following architecture:\n",
        "\n",
        "* 7x7 Convolutional Layer with 32 filters and stride of 1\n",
        "* ReLU Activation Layer\n",
        "* Spatial Batch Normalization Layer\n",
        "* 2x2 Max Pooling layer with a stride of 2\n",
        "* Affine layer with 1024 output units\n",
        "* ReLU Activation Layer\n",
        "* Affine layer from 1024 input units to 10 outputs\n",
        "\n",
        "And finally, set up a **cross-entropy** loss function and the **RMSprop** learning rule."
      ]
    },
    {
      "cell_type": "code",
      "execution_count": 8,
      "metadata": {
        "id": "ct-6wUeqE0DS"
      },
      "outputs": [],
      "source": [
        "fixed_model_base = nn.Sequential(\n",
        "    nn.Conv2d(3, 32, (7, 7), stride=1),\n",
        "    nn.ReLU(),\n",
        "    nn.BatchNorm2d(num_features=32),\n",
        "    nn.MaxPool2d(stride=2, kernel_size=2),\n",
        "    nn.Flatten(),\n",
        "    nn.Linear(32*13*13, 1024),\n",
        "    nn.ReLU(),\n",
        "    nn.Linear(1024, 10)\n",
        "            )\n",
        "\n",
        "fixed_model = fixed_model_base.type(dtype)"
      ]
    },
    {
      "cell_type": "markdown",
      "metadata": {
        "id": "bReurqjwE0DT"
      },
      "source": [
        "To make sure you're doing the right thing, use the following tool to check the dimensionality of your output (it should be 64 x 10, since our batches have size 64 and the output of the final affine layer should be 10, corresponding to our 10 classes):"
      ]
    },
    {
      "cell_type": "code",
      "execution_count": 9,
      "metadata": {
        "colab": {
          "base_uri": "https://localhost:8080/"
        },
        "id": "EeLiswaqE0DT",
        "outputId": "49f57502-7f03-447c-eefc-374399e490ca"
      },
      "outputs": [
        {
          "data": {
            "text/plain": [
              "True"
            ]
          },
          "execution_count": 9,
          "metadata": {},
          "output_type": "execute_result"
        }
      ],
      "source": [
        "## Now we're going to feed a random batch into the model you defined and make sure the output is the right size\n",
        "x = torch.randn(64, 3, 32, 32).type(dtype)\n",
        "x_var = Variable(x.type(dtype)) # Construct a PyTorch Variable out of your input data\n",
        "ans = fixed_model(x_var)        # Feed it through the model! \n",
        "\n",
        "# Check to make sure what comes out of your model\n",
        "# is the right dimensionality... this should be True\n",
        "# if you've done everything correctly\n",
        "np.array_equal(np.array(ans.size()), np.array([64, 10]))       "
      ]
    },
    {
      "cell_type": "code",
      "execution_count": 34,
      "metadata": {
        "id": "P2b6dOnpH5Pg"
      },
      "outputs": [],
      "source": [
        "model_base = fixed_model_base\n",
        "model_cpu = model_base.type(torch.FloatTensor)\n",
        "model_gpu = model_base.type(torch.cuda.FloatTensor)"
      ]
    },
    {
      "cell_type": "code",
      "execution_count": 33,
      "metadata": {
        "colab": {
          "base_uri": "https://localhost:8080/"
        },
        "id": "AdbyGr4oIrDL",
        "outputId": "18cb8ba1-91a2-4222-84f6-52f3fa4c8678"
      },
      "outputs": [
        {
          "data": {
            "text/plain": [
              "torch.Size([64, 10])"
            ]
          },
          "execution_count": 33,
          "metadata": {},
          "output_type": "execute_result"
        }
      ],
      "source": [
        "ans.size()"
      ]
    },
    {
      "cell_type": "markdown",
      "metadata": {
        "id": "Ox_DQk1NE0DT"
      },
      "source": [
        "### GPU!\n",
        "\n",
        "Now, we're going to switch the dtype of the model and our data to the GPU-friendly tensors, and see what happens... everything is the same, except we are casting our model and input tensors as this new dtype instead of the old one.\n",
        "\n",
        "If this returns false, or otherwise fails in a not-graceful way (i.e., with some error message), you may not have an NVIDIA GPU available on your machine. If you're running locally, we recommend you switch to Google Cloud and follow the instructions to set up a GPU there. If you're already on Google Cloud, something is wrong -- make sure you followed the instructions on how to request and use a GPU on your instance. If you did, post on Piazza or come to Office Hours so we can help you debug."
      ]
    },
    {
      "cell_type": "code",
      "execution_count": 10,
      "metadata": {
        "colab": {
          "base_uri": "https://localhost:8080/"
        },
        "id": "uI6nnjbWE0DT",
        "outputId": "7247b93d-b5b0-4c2d-ef25-4558c3d8cd81"
      },
      "outputs": [
        {
          "data": {
            "text/plain": [
              "True"
            ]
          },
          "execution_count": 10,
          "metadata": {},
          "output_type": "execute_result"
        }
      ],
      "source": [
        "# Verify that CUDA is properly configured and you have a GPU available\n",
        "\n",
        "torch.cuda.is_available()"
      ]
    },
    {
      "cell_type": "code",
      "execution_count": 11,
      "metadata": {
        "colab": {
          "base_uri": "https://localhost:8080/"
        },
        "id": "yXxkznNsE0DU",
        "outputId": "7d913af5-7969-4f22-e0ee-cd3309da58c8"
      },
      "outputs": [
        {
          "data": {
            "text/plain": [
              "True"
            ]
          },
          "execution_count": 11,
          "metadata": {},
          "output_type": "execute_result"
        }
      ],
      "source": [
        "import copy\n",
        "gpu_dtype = torch.cuda.FloatTensor\n",
        "\n",
        "fixed_model_gpu = copy.deepcopy(fixed_model_base).type(gpu_dtype)\n",
        "\n",
        "x_gpu = torch.randn(64, 3, 32, 32).type(gpu_dtype)\n",
        "x_var_gpu = Variable(x.type(gpu_dtype)) # Construct a PyTorch Variable out of your input data\n",
        "ans = fixed_model_gpu(x_var_gpu)        # Feed it through the model! \n",
        "\n",
        "# Check to make sure what comes out of your model\n",
        "# is the right dimensionality... this should be True\n",
        "# if you've done everything correctly\n",
        "np.array_equal(np.array(ans.size()), np.array([64, 10]))"
      ]
    },
    {
      "cell_type": "markdown",
      "metadata": {
        "id": "TwjNZyjxE0DU"
      },
      "source": [
        "Run the following cell to evaluate the performance of the forward pass running on the CPU:"
      ]
    },
    {
      "cell_type": "code",
      "execution_count": 12,
      "metadata": {
        "colab": {
          "base_uri": "https://localhost:8080/"
        },
        "id": "2dS1uWg-E0DU",
        "outputId": "30690fb0-4bc7-4491-b917-b5f3f44842fe"
      },
      "outputs": [
        {
          "name": "stdout",
          "output_type": "stream",
          "text": [
            "6.74 ms ± 80.6 µs per loop (mean ± std. dev. of 7 runs, 100 loops each)\n"
          ]
        }
      ],
      "source": [
        "%%timeit \n",
        "ans = fixed_model(x_var)"
      ]
    },
    {
      "cell_type": "markdown",
      "metadata": {
        "id": "6vmgb7EmE0DU"
      },
      "source": [
        "... and now the GPU:"
      ]
    },
    {
      "cell_type": "code",
      "execution_count": 13,
      "metadata": {
        "colab": {
          "base_uri": "https://localhost:8080/"
        },
        "id": "N-rZ41fhE0DU",
        "outputId": "05168855-44cb-4023-b510-4a901c451798"
      },
      "outputs": [
        {
          "name": "stdout",
          "output_type": "stream",
          "text": [
            "646 µs ± 6 µs per loop (mean ± std. dev. of 7 runs, 1000 loops each)\n"
          ]
        }
      ],
      "source": [
        "%%timeit \n",
        "torch.cuda.synchronize() # Make sure there are no pending GPU computations\n",
        "ans = fixed_model_gpu(x_var_gpu)        # Feed it through the model! \n",
        "torch.cuda.synchronize() # Make sure there are no pending GPU computations"
      ]
    },
    {
      "cell_type": "markdown",
      "metadata": {
        "id": "5VK84W0QE0DU"
      },
      "source": [
        "You should observe that even a simple forward pass like this is significantly faster on the GPU. So for the rest of the assignment (and when you go train your models in assignment 3 and your project!), you should use the GPU datatype for your model and your tensors: as a reminder that is *torch.cuda.FloatTensor* (in our notebook here as *gpu_dtype*)"
      ]
    },
    {
      "cell_type": "markdown",
      "metadata": {
        "id": "lyiN9xpDE0DV"
      },
      "source": [
        "### Train the model.\n",
        "\n",
        "Now that you've seen how to define a model and do a single forward pass of some data through it, let's  walk through how you'd actually train one whole epoch over your training data (using the simple_model we provided above).\n",
        "\n",
        "Make sure you understand how each PyTorch function used below corresponds to what you implemented in your custom neural network implementation.\n",
        "\n",
        "Note that because we are not resetting the weights anywhere below, if you run the cell multiple times, you are effectively training multiple epochs (so your performance should improve).\n",
        "\n",
        "First, set up an RMSprop optimizer (using a 1e-3 learning rate) and a cross-entropy loss function:"
      ]
    },
    {
      "cell_type": "code",
      "execution_count": 21,
      "metadata": {
        "collapsed": true,
        "id": "fUgDG8HxE0DV"
      },
      "outputs": [],
      "source": [
        "loss_fn = nn.CrossEntropyLoss()\n",
        "optimizer = optim.RMSprop(params=fixed_model_gpu.parameters(), lr=1e-3)\n",
        "pass\n"
      ]
    },
    {
      "cell_type": "code",
      "execution_count": 32,
      "metadata": {
        "colab": {
          "base_uri": "https://localhost:8080/"
        },
        "id": "tgRAyJiNE0DV",
        "outputId": "0ad9ac4b-014b-4a11-ab9b-5846cdf42dfd"
      },
      "outputs": [
        {
          "name": "stdout",
          "output_type": "stream",
          "text": [
            "t = 100, loss = 1.0550\n",
            "t = 200, loss = 1.0758\n",
            "t = 300, loss = 1.1211\n",
            "t = 400, loss = 1.0841\n",
            "t = 500, loss = 0.9568\n",
            "t = 600, loss = 1.0071\n",
            "t = 700, loss = 0.8074\n"
          ]
        }
      ],
      "source": [
        "# This sets the model in \"training\" mode. This is relevant for some layers that may have different behavior\n",
        "# in training mode vs testing mode, such as Dropout and BatchNorm. \n",
        "fixed_model_gpu.train()\n",
        "\n",
        "# Load one batch at a time.\n",
        "for t, (x, y) in enumerate(loader_train):\n",
        "    x_var = Variable(x.type(gpu_dtype))\n",
        "    y_var = Variable(y.type(gpu_dtype).long())\n",
        "\n",
        "    # This is the forward pass: predict the scores for each class, for each x in the batch.\n",
        "    scores = fixed_model_gpu(x_var)\n",
        "    \n",
        "    # Use the correct y values and the predicted y values to compute the loss.\n",
        "    loss = loss_fn(scores, y_var)\n",
        "    \n",
        "    if (t + 1) % print_every == 0:\n",
        "        print('t = %d, loss = %.4f' % (t + 1, loss.data.item()))\n",
        "\n",
        "    # Zero out all of the gradients for the variables which the optimizer will update.\n",
        "    optimizer.zero_grad()\n",
        "    \n",
        "    # This is the backwards pass: compute the gradient of the loss with respect to each \n",
        "    # parameter of the model.\n",
        "    loss.backward()\n",
        "    \n",
        "    # Actually update the parameters of the model using the gradients computed by the backwards pass.\n",
        "    optimizer.step()"
      ]
    },
    {
      "cell_type": "markdown",
      "metadata": {
        "id": "4nJ68qWxE0DV"
      },
      "source": [
        "Now you've seen how the training process works in PyTorch. To save you writing boilerplate code, we're providing the following helper functions to help you train for multiple epochs and check the accuracy of your model:"
      ]
    },
    {
      "cell_type": "code",
      "execution_count": 29,
      "metadata": {
        "collapsed": true,
        "id": "VnYxEdK-E0DV"
      },
      "outputs": [],
      "source": [
        "def train(model, loss_fn, optimizer, num_epochs = 1):\n",
        "    for epoch in range(num_epochs):\n",
        "        print('Starting epoch %d / %d' % (epoch + 1, num_epochs))\n",
        "        model.train()\n",
        "        for t, (x, y) in enumerate(loader_train):\n",
        "            x_var = Variable(x.type(gpu_dtype))\n",
        "            y_var = Variable(y.type(gpu_dtype).long())\n",
        "\n",
        "            scores = model(x_var)\n",
        "            \n",
        "            loss = loss_fn(scores, y_var)\n",
        "            if (t + 1) % print_every == 0:\n",
        "                print('t = %d, loss = %.4f' % (t + 1, loss.data.item()))\n",
        "\n",
        "            optimizer.zero_grad()\n",
        "            loss.backward()\n",
        "            optimizer.step()\n",
        "\n",
        "def check_accuracy(model, loader):\n",
        "    if loader.dataset.train:\n",
        "        print('Checking accuracy on validation set')\n",
        "    else:\n",
        "        print('Checking accuracy on test set')   \n",
        "    num_correct = 0\n",
        "    num_samples = 0\n",
        "    model.eval() # Put the model in test mode (the opposite of model.train(), essentially)\n",
        "    for x, y in loader:\n",
        "        x_var = Variable(x.type(gpu_dtype), volatile=True)\n",
        "\n",
        "        scores = model(x_var)\n",
        "        _, preds = scores.data.cpu().max(1)\n",
        "        num_correct += (preds == y).sum()\n",
        "        num_samples += preds.size(0)\n",
        "    acc = float(num_correct) / num_samples\n",
        "    print('Got %d / %d correct (%.2f)' % (num_correct, num_samples, 100 * acc))"
      ]
    },
    {
      "cell_type": "markdown",
      "metadata": {
        "id": "vFM1He-5E0DV"
      },
      "source": [
        "### Check the accuracy of the model.\n",
        "\n",
        "Let's see the train and check_accuracy code in action -- feel free to use these methods when evaluating the models you develop below.\n",
        "\n",
        "You should get a training loss of around 1.2-1.4, and a validation accuracy of around 50-60%. As mentioned above, if you re-run the cells, you'll be training more epochs, so your performance will improve past these numbers.\n",
        "\n",
        "But don't worry about getting these numbers better -- this was just practice before you tackle designing your own model."
      ]
    },
    {
      "cell_type": "code",
      "execution_count": 30,
      "metadata": {
        "colab": {
          "base_uri": "https://localhost:8080/"
        },
        "id": "Lp0kUO5nE0DV",
        "outputId": "e3e77d6d-6715-4d13-f80e-1c4dc5e22e23"
      },
      "outputs": [
        {
          "name": "stdout",
          "output_type": "stream",
          "text": [
            "Starting epoch 1 / 1\n",
            "t = 100, loss = 1.2792\n",
            "t = 200, loss = 1.5952\n",
            "t = 300, loss = 1.5008\n",
            "t = 400, loss = 1.4323\n",
            "t = 500, loss = 1.2662\n",
            "t = 600, loss = 1.2562\n",
            "t = 700, loss = 1.2263\n",
            "Checking accuracy on validation set\n",
            "Got 507 / 1000 correct (50.70)\n"
          ]
        },
        {
          "name": "stderr",
          "output_type": "stream",
          "text": [
            "/usr/local/lib/python3.7/dist-packages/ipykernel_launcher.py:28: UserWarning: volatile was removed and now has no effect. Use `with torch.no_grad():` instead.\n"
          ]
        }
      ],
      "source": [
        "torch.cuda.random.manual_seed(12345)\n",
        "fixed_model_gpu.apply(reset)\n",
        "train(fixed_model_gpu, loss_fn, optimizer, num_epochs=1)\n",
        "check_accuracy(fixed_model_gpu, loader_val)"
      ]
    },
    {
      "cell_type": "markdown",
      "metadata": {
        "id": "TYP2d3woE0DV"
      },
      "source": [
        "### Don't forget the validation set!\n",
        "\n",
        "And note that you can use the check_accuracy function to evaluate on either the test set or the validation set, by passing either **loader_test** or **loader_val** as the second argument to check_accuracy. You should not touch the test set until you have finished your architecture and hyperparameter tuning, and only run the test set once at the end to report a final value. "
      ]
    },
    {
      "cell_type": "markdown",
      "metadata": {
        "id": "1TxqvLomE0DV"
      },
      "source": [
        "## Train a _great_ model on CIFAR-10!\n",
        "\n",
        "Now it's your job to experiment with architectures, hyperparameters, loss functions, and optimizers to train a model that achieves **>=70%** accuracy on the CIFAR-10 **validation** set. You can use the check_accuracy and train functions from above."
      ]
    },
    {
      "cell_type": "markdown",
      "metadata": {
        "id": "f5e5YfRfE0DV"
      },
      "source": [
        "### Things you should try:\n",
        "- **Filter size**: Above we used 7x7; this makes pretty pictures but smaller filters may be more efficient\n",
        "- **Number of filters**: Above we used 32 filters. Do more or fewer do better?\n",
        "- **Pooling vs Strided Convolution**: Do you use max pooling or just stride convolutions?\n",
        "- **Batch normalization**: Try adding spatial batch normalization after convolution layers and vanilla batch normalization after affine layers. Do your networks train faster?\n",
        "- **Network architecture**: The network above has two layers of trainable parameters. Can you do better with a deep network? Good architectures to try include:\n",
        "    - [conv-relu-pool]xN -> [affine]xM -> [softmax or SVM]\n",
        "    - [conv-relu-conv-relu-pool]xN -> [affine]xM -> [softmax or SVM]\n",
        "    - [batchnorm-relu-conv]xN -> [affine]xM -> [softmax or SVM]\n",
        "- **Global Average Pooling**: Instead of flattening and then having multiple affine layers, perform convolutions until your image gets small (7x7 or so) and then perform an average pooling operation to get to a 1x1 image picture (1, 1 , Filter#), which is then reshaped into a (Filter#) vector. This is used in [Google's Inception Network](https://arxiv.org/abs/1512.00567) (See Table 1 for their architecture).\n",
        "- **Regularization**: Add l2 weight regularization, or perhaps use Dropout.\n",
        "\n",
        "### Tips for training\n",
        "For each network architecture that you try, you should tune the learning rate and regularization strength. When doing this there are a couple important things to keep in mind:\n",
        "\n",
        "- If the parameters are working well, you should see improvement within a few hundred iterations\n",
        "- Remember the coarse-to-fine approach for hyperparameter tuning: start by testing a large range of hyperparameters for just a few training iterations to find the combinations of parameters that are working at all.\n",
        "- Once you have found some sets of parameters that seem to work, search more finely around these parameters. You may need to train for more epochs.\n",
        "- You should use the validation set for hyperparameter search, and save your test set for evaluating your architecture on the best parameters as selected by the validation set.\n",
        "\n",
        "### Going above and beyond\n",
        "If you are feeling adventurous there are many other features you can implement to try and improve your performance. You are **not required** to implement any of these; however they would be good things to try for extra credit.\n",
        "\n",
        "- Alternative update steps: For the assignment we implemented SGD+momentum, RMSprop, and Adam; you could try alternatives like AdaGrad or AdaDelta.\n",
        "- Alternative activation functions such as leaky ReLU, parametric ReLU, ELU, or MaxOut.\n",
        "- Model ensembles\n",
        "- Data augmentation\n",
        "- New Architectures\n",
        "  - [ResNets](https://arxiv.org/abs/1512.03385) where the input from the previous layer is added to the output.\n",
        "  - [DenseNets](https://arxiv.org/abs/1608.06993) where inputs into previous layers are concatenated together.\n",
        "  - [This blog has an in-depth overview](https://chatbotslife.com/resnets-highwaynets-and-densenets-oh-my-9bb15918ee32)\n",
        "\n",
        "If you do decide to implement something extra, clearly describe it in the \"Extra Credit Description\" cell below.\n",
        "\n",
        "### What we expect\n",
        "At the very least, you should be able to train a ConvNet that gets at least 70% accuracy on the validation set. This is just a lower bound - if you are careful it should be possible to get accuracies much higher than that! Extra credit points will be awarded for particularly high-scoring models or unique approaches.\n",
        "\n",
        "You should use the space below to experiment and train your network. \n",
        "\n",
        "Have fun and happy training!"
      ]
    },
    {
      "cell_type": "code",
      "execution_count": 51,
      "metadata": {
        "colab": {
          "base_uri": "https://localhost:8080/"
        },
        "collapsed": true,
        "id": "gwAfV5X7E0DW",
        "outputId": "3f2f7d20-e23e-47c6-b609-c9b0bbf4d057"
      },
      "outputs": [
        {
          "name": "stdout",
          "output_type": "stream",
          "text": [
            "Starting epoch 1 / 15\n",
            "t = 100, loss = 1.2567\n",
            "t = 200, loss = 1.3840\n",
            "t = 300, loss = 1.3930\n",
            "t = 400, loss = 1.1288\n",
            "t = 500, loss = 1.0164\n",
            "t = 600, loss = 1.3022\n",
            "t = 700, loss = 1.1955\n",
            "Starting epoch 2 / 15\n",
            "t = 100, loss = 0.9229\n",
            "t = 200, loss = 0.9357\n",
            "t = 300, loss = 1.0782\n",
            "t = 400, loss = 0.8034\n",
            "t = 500, loss = 0.7762\n",
            "t = 600, loss = 1.1839\n",
            "t = 700, loss = 0.7735\n",
            "Starting epoch 3 / 15\n",
            "t = 100, loss = 0.6294\n",
            "t = 200, loss = 0.6632\n",
            "t = 300, loss = 0.7667\n",
            "t = 400, loss = 0.5676\n",
            "t = 500, loss = 0.5426\n",
            "t = 600, loss = 0.8261\n",
            "t = 700, loss = 0.6394\n",
            "Starting epoch 4 / 15\n",
            "t = 100, loss = 0.3218\n",
            "t = 200, loss = 0.4822\n",
            "t = 300, loss = 0.5518\n",
            "t = 400, loss = 0.3998\n",
            "t = 500, loss = 0.2972\n",
            "t = 600, loss = 0.5478\n",
            "t = 700, loss = 0.4002\n",
            "Starting epoch 5 / 15\n",
            "t = 100, loss = 0.3078\n",
            "t = 200, loss = 0.2373\n",
            "t = 300, loss = 0.3725\n",
            "t = 400, loss = 0.5095\n",
            "t = 500, loss = 0.3400\n",
            "t = 600, loss = 0.3982\n",
            "t = 700, loss = 0.2165\n",
            "Starting epoch 6 / 15\n",
            "t = 100, loss = 0.2067\n",
            "t = 200, loss = 0.1895\n",
            "t = 300, loss = 0.2524\n",
            "t = 400, loss = 0.1953\n",
            "t = 500, loss = 0.2693\n",
            "t = 600, loss = 0.1534\n",
            "t = 700, loss = 0.3286\n",
            "Starting epoch 7 / 15\n",
            "t = 100, loss = 0.1613\n",
            "t = 200, loss = 0.0970\n",
            "t = 300, loss = 0.2066\n",
            "t = 400, loss = 0.1669\n",
            "t = 500, loss = 0.1499\n",
            "t = 600, loss = 0.2450\n",
            "t = 700, loss = 0.1722\n",
            "Starting epoch 8 / 15\n",
            "t = 100, loss = 0.0964\n",
            "t = 200, loss = 0.1927\n",
            "t = 300, loss = 0.2066\n",
            "t = 400, loss = 0.0863\n",
            "t = 500, loss = 0.1019\n",
            "t = 600, loss = 0.1332\n",
            "t = 700, loss = 0.1810\n",
            "Starting epoch 9 / 15\n",
            "t = 100, loss = 0.0248\n",
            "t = 200, loss = 0.1129\n",
            "t = 300, loss = 0.1322\n",
            "t = 400, loss = 0.1013\n",
            "t = 500, loss = 0.0761\n",
            "t = 600, loss = 0.2298\n",
            "t = 700, loss = 0.0834\n",
            "Starting epoch 10 / 15\n",
            "t = 100, loss = 0.0152\n",
            "t = 200, loss = 0.1703\n",
            "t = 300, loss = 0.0844\n",
            "t = 400, loss = 0.1379\n",
            "t = 500, loss = 0.0443\n",
            "t = 600, loss = 0.0359\n",
            "t = 700, loss = 0.0485\n",
            "Starting epoch 11 / 15\n",
            "t = 100, loss = 0.1766\n",
            "t = 200, loss = 0.0996\n",
            "t = 300, loss = 0.1389\n",
            "t = 400, loss = 0.0481\n",
            "t = 500, loss = 0.0620\n",
            "t = 600, loss = 0.0771\n",
            "t = 700, loss = 0.1084\n",
            "Starting epoch 12 / 15\n",
            "t = 100, loss = 0.2044\n",
            "t = 200, loss = 0.1242\n",
            "t = 300, loss = 0.0871\n",
            "t = 400, loss = 0.0215\n",
            "t = 500, loss = 0.1533\n",
            "t = 600, loss = 0.0801\n",
            "t = 700, loss = 0.0200\n",
            "Starting epoch 13 / 15\n",
            "t = 100, loss = 0.0516\n",
            "t = 200, loss = 0.0084\n",
            "t = 300, loss = 0.0349\n",
            "t = 400, loss = 0.0292\n",
            "t = 500, loss = 0.1164\n",
            "t = 600, loss = 0.0800\n",
            "t = 700, loss = 0.0089\n",
            "Starting epoch 14 / 15\n",
            "t = 100, loss = 0.0247\n",
            "t = 200, loss = 0.0556\n",
            "t = 300, loss = 0.2311\n",
            "t = 400, loss = 0.1746\n",
            "t = 500, loss = 0.1014\n",
            "t = 600, loss = 0.0967\n",
            "t = 700, loss = 0.0795\n",
            "Starting epoch 15 / 15\n",
            "t = 100, loss = 0.1068\n",
            "t = 200, loss = 0.2559\n",
            "t = 300, loss = 0.0837\n",
            "t = 400, loss = 0.1545\n",
            "t = 500, loss = 0.1078\n",
            "t = 600, loss = 0.0274\n",
            "t = 700, loss = 0.1835\n",
            "Checking accuracy on validation set\n",
            "Got 646 / 1000 correct (64.60)\n"
          ]
        },
        {
          "name": "stderr",
          "output_type": "stream",
          "text": [
            "/usr/local/lib/python3.7/dist-packages/ipykernel_launcher.py:28: UserWarning: volatile was removed and now has no effect. Use `with torch.no_grad():` instead.\n"
          ]
        }
      ],
      "source": [
        "# Train your model here, and make sure the output of this cell is the accuracy of your best model on the \n",
        "# train, val, and test sets. Here's some code to get you started. The output of this cell should be the training\n",
        "# and validation accuracy on your best model (measured by validation accuracy).\n",
        "\n",
        "for layer in fixed_model_gpu.children():\n",
        "   if hasattr(layer, 'reset_parameters'):\n",
        "       layer.reset_parameters()\n",
        "\n",
        "model = fixed_model_gpu\n",
        "loss_fn = nn.CrossEntropyLoss()\n",
        "optimizer = optim.Adam(params=model.parameters(), lr=0.001)\n",
        "\n",
        "train(model, loss_fn, optimizer, num_epochs=15)\n",
        "check_accuracy(model, loader_val)"
      ]
    },
    {
      "cell_type": "code",
      "execution_count": 61,
      "metadata": {
        "colab": {
          "base_uri": "https://localhost:8080/"
        },
        "id": "JOUjFfsGOjnw",
        "outputId": "eba7fefa-9d70-489e-d277-d40386b2933d"
      },
      "outputs": [
        {
          "name": "stderr",
          "output_type": "stream",
          "text": [
            "Using cache found in /root/.cache/torch/hub/pytorch_vision_v0.10.0\n"
          ]
        },
        {
          "name": "stdout",
          "output_type": "stream",
          "text": [
            "Starting epoch 1 / 50\n",
            "t = 100, loss = 1.1629\n",
            "t = 200, loss = 1.0913\n",
            "t = 300, loss = 0.8976\n",
            "t = 400, loss = 0.6780\n",
            "t = 500, loss = 0.6570\n",
            "t = 600, loss = 0.9177\n",
            "t = 700, loss = 1.1104\n",
            "Starting epoch 2 / 50\n",
            "t = 100, loss = 0.6016\n",
            "t = 200, loss = 0.7735\n",
            "t = 300, loss = 0.4990\n",
            "t = 400, loss = 0.4337\n",
            "t = 500, loss = 0.5411\n",
            "t = 600, loss = 0.5806\n",
            "t = 700, loss = 0.8178\n",
            "Starting epoch 3 / 50\n",
            "t = 100, loss = 0.3794\n",
            "t = 200, loss = 0.5009\n",
            "t = 300, loss = 0.4225\n",
            "t = 400, loss = 0.3962\n",
            "t = 500, loss = 0.4290\n",
            "t = 600, loss = 0.5172\n",
            "t = 700, loss = 0.7581\n",
            "Starting epoch 4 / 50\n",
            "t = 100, loss = 0.2757\n",
            "t = 200, loss = 0.3167\n",
            "t = 300, loss = 0.3742\n",
            "t = 400, loss = 0.4007\n",
            "t = 500, loss = 0.3429\n",
            "t = 600, loss = 0.2493\n",
            "t = 700, loss = 0.4913\n",
            "Starting epoch 5 / 50\n",
            "t = 100, loss = 0.1506\n",
            "t = 200, loss = 0.2205\n",
            "t = 300, loss = 0.3727\n",
            "t = 400, loss = 0.2816\n",
            "t = 500, loss = 0.1618\n",
            "t = 600, loss = 0.2470\n",
            "t = 700, loss = 0.3919\n",
            "Starting epoch 6 / 50\n",
            "t = 100, loss = 0.2118\n",
            "t = 200, loss = 0.2372\n",
            "t = 300, loss = 0.1952\n",
            "t = 400, loss = 0.1299\n",
            "t = 500, loss = 0.2442\n",
            "t = 600, loss = 0.1508\n",
            "t = 700, loss = 0.4291\n",
            "Starting epoch 7 / 50\n",
            "t = 100, loss = 0.0953\n",
            "t = 200, loss = 0.3451\n",
            "t = 300, loss = 0.2215\n",
            "t = 400, loss = 0.1761\n",
            "t = 500, loss = 0.2881\n",
            "t = 600, loss = 0.0633\n",
            "t = 700, loss = 0.2782\n",
            "Starting epoch 8 / 50\n",
            "t = 100, loss = 0.0932\n",
            "t = 200, loss = 0.2291\n",
            "t = 300, loss = 0.1986\n",
            "t = 400, loss = 0.2385\n",
            "t = 500, loss = 0.2014\n",
            "t = 600, loss = 0.1236\n",
            "t = 700, loss = 0.2062\n",
            "Starting epoch 9 / 50\n",
            "t = 100, loss = 0.0277\n",
            "t = 200, loss = 0.1913\n",
            "t = 300, loss = 0.2609\n",
            "t = 400, loss = 0.0811\n",
            "t = 500, loss = 0.1694\n",
            "t = 600, loss = 0.0967\n",
            "t = 700, loss = 0.2042\n",
            "Starting epoch 10 / 50\n",
            "t = 100, loss = 0.0720\n",
            "t = 200, loss = 0.1068\n",
            "t = 300, loss = 0.1156\n",
            "t = 400, loss = 0.2803\n",
            "t = 500, loss = 0.1705\n",
            "t = 600, loss = 0.2063\n",
            "t = 700, loss = 0.1875\n",
            "Starting epoch 11 / 50\n",
            "t = 100, loss = 0.0562\n",
            "t = 200, loss = 0.0808\n",
            "t = 300, loss = 0.0146\n",
            "t = 400, loss = 0.0606\n",
            "t = 500, loss = 0.0561\n",
            "t = 600, loss = 0.0831\n",
            "t = 700, loss = 0.0476\n",
            "Starting epoch 12 / 50\n",
            "t = 100, loss = 0.1146\n",
            "t = 200, loss = 0.2438\n",
            "t = 300, loss = 0.1282\n",
            "t = 400, loss = 0.0324\n",
            "t = 500, loss = 0.0425\n",
            "t = 600, loss = 0.0062\n",
            "t = 700, loss = 0.0863\n",
            "Starting epoch 13 / 50\n",
            "t = 100, loss = 0.1594\n",
            "t = 200, loss = 0.1428\n",
            "t = 300, loss = 0.0612\n",
            "t = 400, loss = 0.0543\n",
            "t = 500, loss = 0.1101\n",
            "t = 600, loss = 0.0840\n",
            "t = 700, loss = 0.0895\n",
            "Starting epoch 14 / 50\n",
            "t = 100, loss = 0.0304\n",
            "t = 200, loss = 0.0567\n",
            "t = 300, loss = 0.0310\n",
            "t = 400, loss = 0.0180\n",
            "t = 500, loss = 0.1152\n",
            "t = 600, loss = 0.0634\n",
            "t = 700, loss = 0.0610\n",
            "Starting epoch 15 / 50\n",
            "t = 100, loss = 0.0773\n",
            "t = 200, loss = 0.0988\n",
            "t = 300, loss = 0.1134\n",
            "t = 400, loss = 0.0309\n",
            "t = 500, loss = 0.1223\n",
            "t = 600, loss = 0.0726\n",
            "t = 700, loss = 0.0596\n",
            "Starting epoch 16 / 50\n",
            "t = 100, loss = 0.1099\n",
            "t = 200, loss = 0.0053\n",
            "t = 300, loss = 0.0507\n",
            "t = 400, loss = 0.0825\n",
            "t = 500, loss = 0.0118\n",
            "t = 600, loss = 0.0801\n",
            "t = 700, loss = 0.0344\n",
            "Starting epoch 17 / 50\n",
            "t = 100, loss = 0.0457\n",
            "t = 200, loss = 0.0459\n",
            "t = 300, loss = 0.1085\n",
            "t = 400, loss = 0.0559\n",
            "t = 500, loss = 0.0291\n",
            "t = 600, loss = 0.0783\n",
            "t = 700, loss = 0.1372\n",
            "Starting epoch 18 / 50\n",
            "t = 100, loss = 0.0050\n",
            "t = 200, loss = 0.0601\n",
            "t = 300, loss = 0.0633\n",
            "t = 400, loss = 0.0791\n",
            "t = 500, loss = 0.0963\n",
            "t = 600, loss = 0.0320\n",
            "t = 700, loss = 0.0309\n",
            "Starting epoch 19 / 50\n",
            "t = 100, loss = 0.0164\n",
            "t = 200, loss = 0.2571\n",
            "t = 300, loss = 0.0162\n",
            "t = 400, loss = 0.0193\n",
            "t = 500, loss = 0.0173\n",
            "t = 600, loss = 0.0539\n",
            "t = 700, loss = 0.0175\n",
            "Starting epoch 20 / 50\n",
            "t = 100, loss = 0.0149\n",
            "t = 200, loss = 0.0143\n",
            "t = 300, loss = 0.0110\n",
            "t = 400, loss = 0.0077\n",
            "t = 500, loss = 0.0695\n",
            "t = 600, loss = 0.0444\n",
            "t = 700, loss = 0.1630\n",
            "Starting epoch 21 / 50\n",
            "t = 100, loss = 0.0908\n",
            "t = 200, loss = 0.0649\n",
            "t = 300, loss = 0.0464\n",
            "t = 400, loss = 0.1219\n",
            "t = 500, loss = 0.0502\n",
            "t = 600, loss = 0.0730\n",
            "t = 700, loss = 0.0525\n",
            "Starting epoch 22 / 50\n",
            "t = 100, loss = 0.0486\n",
            "t = 200, loss = 0.0271\n",
            "t = 300, loss = 0.0114\n",
            "t = 400, loss = 0.0057\n",
            "t = 500, loss = 0.0089\n",
            "t = 600, loss = 0.0281\n",
            "t = 700, loss = 0.0042\n",
            "Starting epoch 23 / 50\n",
            "t = 100, loss = 0.0470\n",
            "t = 200, loss = 0.0257\n",
            "t = 300, loss = 0.1041\n",
            "t = 400, loss = 0.0611\n",
            "t = 500, loss = 0.1660\n",
            "t = 600, loss = 0.0606\n",
            "t = 700, loss = 0.0138\n",
            "Starting epoch 24 / 50\n",
            "t = 100, loss = 0.0391\n",
            "t = 200, loss = 0.1113\n",
            "t = 300, loss = 0.1435\n",
            "t = 400, loss = 0.0079\n",
            "t = 500, loss = 0.0490\n",
            "t = 600, loss = 0.0451\n",
            "t = 700, loss = 0.0929\n",
            "Starting epoch 25 / 50\n",
            "t = 100, loss = 0.0518\n",
            "t = 200, loss = 0.0544\n",
            "t = 300, loss = 0.0625\n",
            "t = 400, loss = 0.0485\n",
            "t = 500, loss = 0.0469\n",
            "t = 600, loss = 0.0616\n",
            "t = 700, loss = 0.0518\n",
            "Starting epoch 26 / 50\n",
            "t = 100, loss = 0.0354\n",
            "t = 200, loss = 0.0029\n",
            "t = 300, loss = 0.0123\n",
            "t = 400, loss = 0.0344\n",
            "t = 500, loss = 0.0747\n",
            "t = 600, loss = 0.1159\n",
            "t = 700, loss = 0.0432\n",
            "Starting epoch 27 / 50\n",
            "t = 100, loss = 0.0183\n",
            "t = 200, loss = 0.0213\n",
            "t = 300, loss = 0.0729\n",
            "t = 400, loss = 0.0095\n",
            "t = 500, loss = 0.0231\n",
            "t = 600, loss = 0.0166\n",
            "t = 700, loss = 0.0051\n",
            "Starting epoch 28 / 50\n",
            "t = 100, loss = 0.0154\n",
            "t = 200, loss = 0.0759\n",
            "t = 300, loss = 0.0048\n",
            "t = 400, loss = 0.0331\n",
            "t = 500, loss = 0.0556\n",
            "t = 600, loss = 0.0168\n",
            "t = 700, loss = 0.0177\n",
            "Starting epoch 29 / 50\n",
            "t = 100, loss = 0.0116\n",
            "t = 200, loss = 0.0552\n",
            "t = 300, loss = 0.0075\n",
            "t = 400, loss = 0.0786\n",
            "t = 500, loss = 0.0694\n",
            "t = 600, loss = 0.0125\n",
            "t = 700, loss = 0.0051\n",
            "Starting epoch 30 / 50\n",
            "t = 100, loss = 0.0428\n",
            "t = 200, loss = 0.0550\n",
            "t = 300, loss = 0.0739\n",
            "t = 400, loss = 0.0290\n",
            "t = 500, loss = 0.1104\n",
            "t = 600, loss = 0.0125\n",
            "t = 700, loss = 0.0396\n",
            "Starting epoch 31 / 50\n",
            "t = 100, loss = 0.0449\n",
            "t = 200, loss = 0.0445\n",
            "t = 300, loss = 0.0205\n",
            "t = 400, loss = 0.0058\n",
            "t = 500, loss = 0.0659\n",
            "t = 600, loss = 0.0035\n",
            "t = 700, loss = 0.0170\n",
            "Starting epoch 32 / 50\n",
            "t = 100, loss = 0.0444\n",
            "t = 200, loss = 0.0012\n",
            "t = 300, loss = 0.0072\n",
            "t = 400, loss = 0.0411\n",
            "t = 500, loss = 0.0009\n",
            "t = 600, loss = 0.0390\n",
            "t = 700, loss = 0.0422\n",
            "Starting epoch 33 / 50\n",
            "t = 100, loss = 0.0286\n",
            "t = 200, loss = 0.0893\n",
            "t = 300, loss = 0.0143\n",
            "t = 400, loss = 0.0409\n",
            "t = 500, loss = 0.0192\n",
            "t = 600, loss = 0.0585\n",
            "t = 700, loss = 0.0051\n",
            "Starting epoch 34 / 50\n",
            "t = 100, loss = 0.0012\n",
            "t = 200, loss = 0.0955\n",
            "t = 300, loss = 0.0765\n",
            "t = 400, loss = 0.0566\n",
            "t = 500, loss = 0.0008\n",
            "t = 600, loss = 0.0049\n",
            "t = 700, loss = 0.1003\n",
            "Starting epoch 35 / 50\n",
            "t = 100, loss = 0.0006\n",
            "t = 200, loss = 0.0181\n",
            "t = 300, loss = 0.0552\n",
            "t = 400, loss = 0.0327\n",
            "t = 500, loss = 0.0033\n",
            "t = 600, loss = 0.0107\n",
            "t = 700, loss = 0.0089\n",
            "Starting epoch 36 / 50\n",
            "t = 100, loss = 0.0090\n",
            "t = 200, loss = 0.0518\n",
            "t = 300, loss = 0.0077\n",
            "t = 400, loss = 0.0219\n",
            "t = 500, loss = 0.0581\n",
            "t = 600, loss = 0.0051\n",
            "t = 700, loss = 0.1178\n",
            "Starting epoch 37 / 50\n",
            "t = 100, loss = 0.0483\n",
            "t = 200, loss = 0.0010\n",
            "t = 300, loss = 0.0178\n",
            "t = 400, loss = 0.0052\n",
            "t = 500, loss = 0.0236\n",
            "t = 600, loss = 0.0079\n",
            "t = 700, loss = 0.0101\n",
            "Starting epoch 38 / 50\n",
            "t = 100, loss = 0.0026\n",
            "t = 200, loss = 0.0173\n",
            "t = 300, loss = 0.0077\n",
            "t = 400, loss = 0.0015\n",
            "t = 500, loss = 0.0175\n",
            "t = 600, loss = 0.0220\n",
            "t = 700, loss = 0.0084\n",
            "Starting epoch 39 / 50\n",
            "t = 100, loss = 0.0365\n",
            "t = 200, loss = 0.0547\n",
            "t = 300, loss = 0.0075\n",
            "t = 400, loss = 0.0203\n",
            "t = 500, loss = 0.0007\n",
            "t = 600, loss = 0.0047\n",
            "t = 700, loss = 0.0017\n",
            "Starting epoch 40 / 50\n",
            "t = 100, loss = 0.0873\n",
            "t = 200, loss = 0.0283\n",
            "t = 300, loss = 0.0173\n",
            "t = 400, loss = 0.0159\n",
            "t = 500, loss = 0.0079\n",
            "t = 600, loss = 0.0055\n",
            "t = 700, loss = 0.0147\n",
            "Starting epoch 41 / 50\n",
            "t = 100, loss = 0.0055\n",
            "t = 200, loss = 0.0076\n",
            "t = 300, loss = 0.1346\n",
            "t = 400, loss = 0.0134\n",
            "t = 500, loss = 0.0396\n",
            "t = 600, loss = 0.0157\n",
            "t = 700, loss = 0.0050\n",
            "Starting epoch 42 / 50\n",
            "t = 100, loss = 0.0047\n",
            "t = 200, loss = 0.0956\n",
            "t = 300, loss = 0.0861\n",
            "t = 400, loss = 0.0045\n",
            "t = 500, loss = 0.1154\n",
            "t = 600, loss = 0.0273\n",
            "t = 700, loss = 0.0136\n",
            "Starting epoch 43 / 50\n",
            "t = 100, loss = 0.0098\n",
            "t = 200, loss = 0.0042\n",
            "t = 300, loss = 0.0247\n",
            "t = 400, loss = 0.0077\n",
            "t = 500, loss = 0.0020\n",
            "t = 600, loss = 0.0053\n",
            "t = 700, loss = 0.0059\n",
            "Starting epoch 44 / 50\n",
            "t = 100, loss = 0.0023\n",
            "t = 200, loss = 0.0067\n",
            "t = 300, loss = 0.1250\n",
            "t = 400, loss = 0.0212\n",
            "t = 500, loss = 0.1249\n",
            "t = 600, loss = 0.0026\n",
            "t = 700, loss = 0.0084\n",
            "Starting epoch 45 / 50\n",
            "t = 100, loss = 0.0302\n",
            "t = 200, loss = 0.0006\n",
            "t = 300, loss = 0.0651\n",
            "t = 400, loss = 0.0067\n",
            "t = 500, loss = 0.0004\n",
            "t = 600, loss = 0.0083\n",
            "t = 700, loss = 0.0827\n",
            "Starting epoch 46 / 50\n",
            "t = 100, loss = 0.0091\n",
            "t = 200, loss = 0.0084\n",
            "t = 300, loss = 0.0447\n",
            "t = 400, loss = 0.0057\n",
            "t = 500, loss = 0.0005\n",
            "t = 600, loss = 0.2153\n",
            "t = 700, loss = 0.1542\n",
            "Starting epoch 47 / 50\n",
            "t = 100, loss = 0.0049\n",
            "t = 200, loss = 0.0599\n",
            "t = 300, loss = 0.0148\n",
            "t = 400, loss = 0.1316\n",
            "t = 500, loss = 0.0367\n",
            "t = 600, loss = 0.0128\n",
            "t = 700, loss = 0.0691\n",
            "Starting epoch 48 / 50\n",
            "t = 100, loss = 0.0012\n",
            "t = 200, loss = 0.0020\n",
            "t = 300, loss = 0.0247\n",
            "t = 400, loss = 0.0006\n",
            "t = 500, loss = 0.0007\n",
            "t = 600, loss = 0.0014\n",
            "t = 700, loss = 0.0013\n",
            "Starting epoch 49 / 50\n",
            "t = 100, loss = 0.0006\n",
            "t = 200, loss = 0.0014\n",
            "t = 300, loss = 0.0004\n",
            "t = 400, loss = 0.0005\n",
            "t = 500, loss = 0.0000\n",
            "t = 600, loss = 0.0002\n",
            "t = 700, loss = 0.0008\n",
            "Starting epoch 50 / 50\n",
            "t = 100, loss = 0.0350\n",
            "t = 200, loss = 0.0767\n",
            "t = 300, loss = 0.0270\n",
            "t = 400, loss = 0.0075\n",
            "t = 500, loss = 0.0060\n",
            "t = 600, loss = 0.0270\n",
            "t = 700, loss = 0.0126\n",
            "Checking accuracy on validation set\n",
            "Got 804 / 1000 correct (80.40)\n"
          ]
        },
        {
          "name": "stderr",
          "output_type": "stream",
          "text": [
            "/usr/local/lib/python3.7/dist-packages/ipykernel_launcher.py:28: UserWarning: volatile was removed and now has no effect. Use `with torch.no_grad():` instead.\n"
          ]
        }
      ],
      "source": [
        "net = torch.hub.load('pytorch/vision:v0.10.0', 'resnet18', pretrained=True).type(torch.cuda.FloatTensor)\n",
        "loss_fn = nn.CrossEntropyLoss()\n",
        "optimizer = optim.Adam(params=net.parameters(), lr=0.001)\n",
        "train(net, loss_fn, optimizer, num_epochs=50)\n",
        "check_accuracy(net, loader_val)"
      ]
    },
    {
      "cell_type": "markdown",
      "metadata": {
        "id": "eU8YNbmmE0DW"
      },
      "source": [
        "### Describe what you did \n",
        "\n",
        "In the cell below you should write an explanation of what you did, any additional features that you implemented, and any visualizations or graphs that you make in the process of training and evaluating your network."
      ]
    },
    {
      "cell_type": "markdown",
      "metadata": {
        "id": "NlDFgZWrE0DW"
      },
      "source": [
        "Tell us here!  \n",
        "I feed the parameters of fixed_model_base to gpu, and use trian the model with cifar-10 dataset. I use adam optimizer and lr is 0.001.\n",
        "\n",
        "I have tuned the filter size, number of filters to see the which one is better. Batchnorm layers help the model learns better. I also try different the structure of the model. I tried out different orders of the layers. I also compare the flatten layer and the global pooling.\n",
        "\n",
        "I load a resnet pretrained on imagenet and train the cifar-10 dataset.\n"
      ]
    },
    {
      "cell_type": "markdown",
      "metadata": {
        "id": "wH3irkDPE0DW"
      },
      "source": [
        "## Test set -- run this only once\n",
        "\n",
        "Now that we've gotten a result we're happy with, we test our final model on the test set (which you should store in best_model).  This would be the score we would achieve on a competition. Think about how this compares to your validation set accuracy."
      ]
    },
    {
      "cell_type": "code",
      "execution_count": 2,
      "metadata": {
        "collapsed": true,
        "id": "39oWJKqLE0DW"
      },
      "outputs": [
        {
          "name": "stdout",
          "output_type": "stream",
          "text": [
            "Checking accuracy on validation set \n",
            "Got 804 / 1000 correct (80.40)\n"
          ]
        }
      ],
      "source": [
        "best_model = net\n",
        "check_accuracy(best_model, loader_test)"
      ]
    },
    {
      "cell_type": "markdown",
      "metadata": {
        "id": "J_8BO8GRE0DX"
      },
      "source": [
        "## Going further with PyTorch\n",
        "\n",
        "The next assignment will make heavy use of PyTorch. You might also find it useful for your projects. \n",
        "\n",
        "Here's a nice tutorial by Justin Johnson that shows off some of PyTorch's features, like dynamic graphs and custom NN modules: http://pytorch.org/tutorials/beginner/pytorch_with_examples.html\n",
        "\n",
        "If you're interested in reinforcement learning for your final project, this is a good (more advanced) DQN tutorial in PyTorch: http://pytorch.org/tutorials/intermediate/reinforcement_q_learning.html"
      ]
    }
  ],
  "metadata": {
    "accelerator": "GPU",
    "colab": {
      "machine_shape": "hm",
      "provenance": []
    },
    "gpuClass": "premium",
    "kernelspec": {
      "display_name": "Python 3.9.7 ('base')",
      "language": "python",
      "name": "python3"
    },
    "language_info": {
      "codemirror_mode": {
        "name": "ipython",
        "version": 3
      },
      "file_extension": ".py",
      "mimetype": "text/x-python",
      "name": "python",
      "nbconvert_exporter": "python",
      "pygments_lexer": "ipython3",
      "version": "3.9.7"
    },
    "vscode": {
      "interpreter": {
        "hash": "ad2bdc8ecc057115af97d19610ffacc2b4e99fae6737bb82f5d7fb13d2f2c186"
      }
    },
    "widgets": {
      "application/vnd.jupyter.widget-state+json": {
        "293f2eaff62540afaed5834f56c09689": {
          "model_module": "@jupyter-widgets/controls",
          "model_module_version": "1.5.0",
          "model_name": "DescriptionStyleModel",
          "state": {
            "_model_module": "@jupyter-widgets/controls",
            "_model_module_version": "1.5.0",
            "_model_name": "DescriptionStyleModel",
            "_view_count": null,
            "_view_module": "@jupyter-widgets/base",
            "_view_module_version": "1.2.0",
            "_view_name": "StyleView",
            "description_width": ""
          }
        },
        "3b6aa0e79ae344019131c5fbab788293": {
          "model_module": "@jupyter-widgets/controls",
          "model_module_version": "1.5.0",
          "model_name": "HTMLModel",
          "state": {
            "_dom_classes": [],
            "_model_module": "@jupyter-widgets/controls",
            "_model_module_version": "1.5.0",
            "_model_name": "HTMLModel",
            "_view_count": null,
            "_view_module": "@jupyter-widgets/controls",
            "_view_module_version": "1.5.0",
            "_view_name": "HTMLView",
            "description": "",
            "description_tooltip": null,
            "layout": "IPY_MODEL_b4b30a687a6b45ffb91290ca2b95910b",
            "placeholder": "​",
            "style": "IPY_MODEL_293f2eaff62540afaed5834f56c09689",
            "value": "100%"
          }
        },
        "84bfce5486814c30aa028708a19458ed": {
          "model_module": "@jupyter-widgets/controls",
          "model_module_version": "1.5.0",
          "model_name": "ProgressStyleModel",
          "state": {
            "_model_module": "@jupyter-widgets/controls",
            "_model_module_version": "1.5.0",
            "_model_name": "ProgressStyleModel",
            "_view_count": null,
            "_view_module": "@jupyter-widgets/base",
            "_view_module_version": "1.2.0",
            "_view_name": "StyleView",
            "bar_color": null,
            "description_width": ""
          }
        },
        "9c4aa6809cf5483c94916f985721f6de": {
          "model_module": "@jupyter-widgets/controls",
          "model_module_version": "1.5.0",
          "model_name": "HBoxModel",
          "state": {
            "_dom_classes": [],
            "_model_module": "@jupyter-widgets/controls",
            "_model_module_version": "1.5.0",
            "_model_name": "HBoxModel",
            "_view_count": null,
            "_view_module": "@jupyter-widgets/controls",
            "_view_module_version": "1.5.0",
            "_view_name": "HBoxView",
            "box_style": "",
            "children": [
              "IPY_MODEL_3b6aa0e79ae344019131c5fbab788293",
              "IPY_MODEL_b7cd0a5f9ff34c1fbf79b06d3f26bb4d",
              "IPY_MODEL_e5c0845c9f6448d2aaf3459fb15f555a"
            ],
            "layout": "IPY_MODEL_d4397b9d2cc0491fb45e9c62b403b5ad"
          }
        },
        "b4b30a687a6b45ffb91290ca2b95910b": {
          "model_module": "@jupyter-widgets/base",
          "model_module_version": "1.2.0",
          "model_name": "LayoutModel",
          "state": {
            "_model_module": "@jupyter-widgets/base",
            "_model_module_version": "1.2.0",
            "_model_name": "LayoutModel",
            "_view_count": null,
            "_view_module": "@jupyter-widgets/base",
            "_view_module_version": "1.2.0",
            "_view_name": "LayoutView",
            "align_content": null,
            "align_items": null,
            "align_self": null,
            "border": null,
            "bottom": null,
            "display": null,
            "flex": null,
            "flex_flow": null,
            "grid_area": null,
            "grid_auto_columns": null,
            "grid_auto_flow": null,
            "grid_auto_rows": null,
            "grid_column": null,
            "grid_gap": null,
            "grid_row": null,
            "grid_template_areas": null,
            "grid_template_columns": null,
            "grid_template_rows": null,
            "height": null,
            "justify_content": null,
            "justify_items": null,
            "left": null,
            "margin": null,
            "max_height": null,
            "max_width": null,
            "min_height": null,
            "min_width": null,
            "object_fit": null,
            "object_position": null,
            "order": null,
            "overflow": null,
            "overflow_x": null,
            "overflow_y": null,
            "padding": null,
            "right": null,
            "top": null,
            "visibility": null,
            "width": null
          }
        },
        "b7cd0a5f9ff34c1fbf79b06d3f26bb4d": {
          "model_module": "@jupyter-widgets/controls",
          "model_module_version": "1.5.0",
          "model_name": "FloatProgressModel",
          "state": {
            "_dom_classes": [],
            "_model_module": "@jupyter-widgets/controls",
            "_model_module_version": "1.5.0",
            "_model_name": "FloatProgressModel",
            "_view_count": null,
            "_view_module": "@jupyter-widgets/controls",
            "_view_module_version": "1.5.0",
            "_view_name": "ProgressView",
            "bar_style": "success",
            "description": "",
            "description_tooltip": null,
            "layout": "IPY_MODEL_dbcc09bacdd1489c8568b1e6ff457754",
            "max": 170498071,
            "min": 0,
            "orientation": "horizontal",
            "style": "IPY_MODEL_84bfce5486814c30aa028708a19458ed",
            "value": 170498071
          }
        },
        "cb171a5ba4c84d5c82dd4b29c48ebceb": {
          "model_module": "@jupyter-widgets/controls",
          "model_module_version": "1.5.0",
          "model_name": "DescriptionStyleModel",
          "state": {
            "_model_module": "@jupyter-widgets/controls",
            "_model_module_version": "1.5.0",
            "_model_name": "DescriptionStyleModel",
            "_view_count": null,
            "_view_module": "@jupyter-widgets/base",
            "_view_module_version": "1.2.0",
            "_view_name": "StyleView",
            "description_width": ""
          }
        },
        "d4397b9d2cc0491fb45e9c62b403b5ad": {
          "model_module": "@jupyter-widgets/base",
          "model_module_version": "1.2.0",
          "model_name": "LayoutModel",
          "state": {
            "_model_module": "@jupyter-widgets/base",
            "_model_module_version": "1.2.0",
            "_model_name": "LayoutModel",
            "_view_count": null,
            "_view_module": "@jupyter-widgets/base",
            "_view_module_version": "1.2.0",
            "_view_name": "LayoutView",
            "align_content": null,
            "align_items": null,
            "align_self": null,
            "border": null,
            "bottom": null,
            "display": null,
            "flex": null,
            "flex_flow": null,
            "grid_area": null,
            "grid_auto_columns": null,
            "grid_auto_flow": null,
            "grid_auto_rows": null,
            "grid_column": null,
            "grid_gap": null,
            "grid_row": null,
            "grid_template_areas": null,
            "grid_template_columns": null,
            "grid_template_rows": null,
            "height": null,
            "justify_content": null,
            "justify_items": null,
            "left": null,
            "margin": null,
            "max_height": null,
            "max_width": null,
            "min_height": null,
            "min_width": null,
            "object_fit": null,
            "object_position": null,
            "order": null,
            "overflow": null,
            "overflow_x": null,
            "overflow_y": null,
            "padding": null,
            "right": null,
            "top": null,
            "visibility": null,
            "width": null
          }
        },
        "dbcc09bacdd1489c8568b1e6ff457754": {
          "model_module": "@jupyter-widgets/base",
          "model_module_version": "1.2.0",
          "model_name": "LayoutModel",
          "state": {
            "_model_module": "@jupyter-widgets/base",
            "_model_module_version": "1.2.0",
            "_model_name": "LayoutModel",
            "_view_count": null,
            "_view_module": "@jupyter-widgets/base",
            "_view_module_version": "1.2.0",
            "_view_name": "LayoutView",
            "align_content": null,
            "align_items": null,
            "align_self": null,
            "border": null,
            "bottom": null,
            "display": null,
            "flex": null,
            "flex_flow": null,
            "grid_area": null,
            "grid_auto_columns": null,
            "grid_auto_flow": null,
            "grid_auto_rows": null,
            "grid_column": null,
            "grid_gap": null,
            "grid_row": null,
            "grid_template_areas": null,
            "grid_template_columns": null,
            "grid_template_rows": null,
            "height": null,
            "justify_content": null,
            "justify_items": null,
            "left": null,
            "margin": null,
            "max_height": null,
            "max_width": null,
            "min_height": null,
            "min_width": null,
            "object_fit": null,
            "object_position": null,
            "order": null,
            "overflow": null,
            "overflow_x": null,
            "overflow_y": null,
            "padding": null,
            "right": null,
            "top": null,
            "visibility": null,
            "width": null
          }
        },
        "e5c0845c9f6448d2aaf3459fb15f555a": {
          "model_module": "@jupyter-widgets/controls",
          "model_module_version": "1.5.0",
          "model_name": "HTMLModel",
          "state": {
            "_dom_classes": [],
            "_model_module": "@jupyter-widgets/controls",
            "_model_module_version": "1.5.0",
            "_model_name": "HTMLModel",
            "_view_count": null,
            "_view_module": "@jupyter-widgets/controls",
            "_view_module_version": "1.5.0",
            "_view_name": "HTMLView",
            "description": "",
            "description_tooltip": null,
            "layout": "IPY_MODEL_f90014efb7e6458183d2f7b4e83264f0",
            "placeholder": "​",
            "style": "IPY_MODEL_cb171a5ba4c84d5c82dd4b29c48ebceb",
            "value": " 170498071/170498071 [00:02&lt;00:00, 90179613.34it/s]"
          }
        },
        "f90014efb7e6458183d2f7b4e83264f0": {
          "model_module": "@jupyter-widgets/base",
          "model_module_version": "1.2.0",
          "model_name": "LayoutModel",
          "state": {
            "_model_module": "@jupyter-widgets/base",
            "_model_module_version": "1.2.0",
            "_model_name": "LayoutModel",
            "_view_count": null,
            "_view_module": "@jupyter-widgets/base",
            "_view_module_version": "1.2.0",
            "_view_name": "LayoutView",
            "align_content": null,
            "align_items": null,
            "align_self": null,
            "border": null,
            "bottom": null,
            "display": null,
            "flex": null,
            "flex_flow": null,
            "grid_area": null,
            "grid_auto_columns": null,
            "grid_auto_flow": null,
            "grid_auto_rows": null,
            "grid_column": null,
            "grid_gap": null,
            "grid_row": null,
            "grid_template_areas": null,
            "grid_template_columns": null,
            "grid_template_rows": null,
            "height": null,
            "justify_content": null,
            "justify_items": null,
            "left": null,
            "margin": null,
            "max_height": null,
            "max_width": null,
            "min_height": null,
            "min_width": null,
            "object_fit": null,
            "object_position": null,
            "order": null,
            "overflow": null,
            "overflow_x": null,
            "overflow_y": null,
            "padding": null,
            "right": null,
            "top": null,
            "visibility": null,
            "width": null
          }
        }
      }
    }
  },
  "nbformat": 4,
  "nbformat_minor": 0
}
