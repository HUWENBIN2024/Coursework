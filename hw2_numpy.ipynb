{
 "cells": [
  {
   "cell_type": "markdown",
   "metadata": {},
   "source": [
    "# **Document for this file**\n",
    "## **Notations:**  \n",
    "1. **E: Evidence.** We use a nested list, consisting chars and lists of chars, to represent the evidence.   \n",
    "eg: **['A','B', ['A','B'], ['A','B'], ['A','B']]**, standing for: **{ L1 = 'A' & L2 = 'B' & L3 not in {'A','B'} & L4 not in {'A','B'} & L5 not in {'A','B'} }**  \n",
    "2. **L: Belief, a list of 5 chars**  \n",
    "eg: **['A','A','0','0','0']**, standing for: **{L1 = 'A' or L2 = 'A'}** \n",
    "\n",
    "## **MATH:**  \n",
    "**P(L|E) = ΣP(L|W)P(E|W)P(W) / ΣP(E|W')P(W')**  \n",
    "\n",
    "## **Implementation:**  \n",
    "### (i).Preprocess:  \n",
    "1. We calculate all the value of P(L|W), P(E|W), P(W), saved in three numpy arrays respectively, namely **PROB_L_W**, **PROB_E_W** and **PROB_W.**  \n",
    "### (ii).Numpy for fast calculation and avoiding redundant computations:  \n",
    "1. For **ΣP(L|W)P(E|W)P(W)**: We element-wise multiply **PROB_L_W, PROB_E_W, PROB_W**, and sum up elements in the result array. i.e. **(PROB_L_W * PROB_E_W * PROB_W).sum().item()**  \n",
    "2. For **ΣP(E|W')P(W')**: We do dot product for **PROB_E_W**, **PROB_W**. i.e. **PROB_E_W.dot(PROB_W).item()**  \n",
    "### (iii).Inference for the best result:\n",
    "1. We do a for loop for 26 letters(A->Z), and find the **max{P(letter_i|E)}** for all letters."
   ]
  },
  {
   "cell_type": "markdown",
   "metadata": {},
   "source": [
    "# Fetch the data to DataFrame"
   ]
  },
  {
   "cell_type": "code",
   "execution_count": null,
   "metadata": {},
   "outputs": [],
   "source": [
    "import pandas as pd\n",
    "import numpy as np\n",
    "df = pd.read_csv('./hw2_word_counts_05.txt',sep=\" \", engine='python')\n",
    "df"
   ]
  },
  {
   "cell_type": "markdown",
   "metadata": {},
   "source": [
    "# (a) Calculate P(W), saved in df, and anwser question(a)"
   ]
  },
  {
   "cell_type": "code",
   "execution_count": 52,
   "metadata": {},
   "outputs": [
    {
     "data": {
      "text/html": [
       "<div>\n",
       "<style scoped>\n",
       "    .dataframe tbody tr th:only-of-type {\n",
       "        vertical-align: middle;\n",
       "    }\n",
       "\n",
       "    .dataframe tbody tr th {\n",
       "        vertical-align: top;\n",
       "    }\n",
       "\n",
       "    .dataframe thead th {\n",
       "        text-align: right;\n",
       "    }\n",
       "</style>\n",
       "<table border=\"1\" class=\"dataframe\">\n",
       "  <thead>\n",
       "    <tr style=\"text-align: right;\">\n",
       "      <th></th>\n",
       "      <th>Word</th>\n",
       "      <th>Times</th>\n",
       "      <th>prob_w</th>\n",
       "    </tr>\n",
       "  </thead>\n",
       "  <tbody>\n",
       "    <tr>\n",
       "      <th>5821</th>\n",
       "      <td>THREE</td>\n",
       "      <td>273077</td>\n",
       "      <td>0.035627</td>\n",
       "    </tr>\n",
       "    <tr>\n",
       "      <th>5102</th>\n",
       "      <td>SEVEN</td>\n",
       "      <td>178842</td>\n",
       "      <td>0.023333</td>\n",
       "    </tr>\n",
       "    <tr>\n",
       "      <th>1684</th>\n",
       "      <td>EIGHT</td>\n",
       "      <td>165764</td>\n",
       "      <td>0.021626</td>\n",
       "    </tr>\n",
       "    <tr>\n",
       "      <th>6403</th>\n",
       "      <td>WOULD</td>\n",
       "      <td>159875</td>\n",
       "      <td>0.020858</td>\n",
       "    </tr>\n",
       "    <tr>\n",
       "      <th>18</th>\n",
       "      <td>ABOUT</td>\n",
       "      <td>157448</td>\n",
       "      <td>0.020542</td>\n",
       "    </tr>\n",
       "    <tr>\n",
       "      <th>5804</th>\n",
       "      <td>THEIR</td>\n",
       "      <td>145434</td>\n",
       "      <td>0.018974</td>\n",
       "    </tr>\n",
       "    <tr>\n",
       "      <th>6320</th>\n",
       "      <td>WHICH</td>\n",
       "      <td>142146</td>\n",
       "      <td>0.018545</td>\n",
       "    </tr>\n",
       "    <tr>\n",
       "      <th>73</th>\n",
       "      <td>AFTER</td>\n",
       "      <td>110102</td>\n",
       "      <td>0.014365</td>\n",
       "    </tr>\n",
       "    <tr>\n",
       "      <th>1975</th>\n",
       "      <td>FIRST</td>\n",
       "      <td>109957</td>\n",
       "      <td>0.014346</td>\n",
       "    </tr>\n",
       "    <tr>\n",
       "      <th>1947</th>\n",
       "      <td>FIFTY</td>\n",
       "      <td>106869</td>\n",
       "      <td>0.013943</td>\n",
       "    </tr>\n",
       "  </tbody>\n",
       "</table>\n",
       "</div>"
      ],
      "text/plain": [
       "       Word   Times    prob_w\n",
       "5821  THREE  273077  0.035627\n",
       "5102  SEVEN  178842  0.023333\n",
       "1684  EIGHT  165764  0.021626\n",
       "6403  WOULD  159875  0.020858\n",
       "18    ABOUT  157448  0.020542\n",
       "5804  THEIR  145434  0.018974\n",
       "6320  WHICH  142146  0.018545\n",
       "73    AFTER  110102  0.014365\n",
       "1975  FIRST  109957  0.014346\n",
       "1947  FIFTY  106869  0.013943"
      ]
     },
     "execution_count": 52,
     "metadata": {},
     "output_type": "execute_result"
    }
   ],
   "source": [
    "total_counts = df['Times'].sum()\n",
    "df['prob_w'] = df['Times'] / total_counts\n",
    "\n",
    "df.nlargest(10, ['Times'])"
   ]
  },
  {
   "cell_type": "markdown",
   "metadata": {},
   "source": [
    "# (b) Inference for best guesses"
   ]
  },
  {
   "cell_type": "markdown",
   "metadata": {},
   "source": [
    "## Global Variables"
   ]
  },
  {
   "cell_type": "code",
   "execution_count": 53,
   "metadata": {},
   "outputs": [],
   "source": [
    "LEN_DF = 6535\n",
    "WORD_LEN = 5\n",
    "\n",
    "PROB_L_W = np.zeros((LEN_DF, ))  \n",
    "PROB_E_W = np.zeros((LEN_DF, ))\n",
    "PROB_W = np.zeros((LEN_DF, ))"
   ]
  },
  {
   "cell_type": "markdown",
   "metadata": {},
   "source": [
    "## Renew Tensor P(L | W)"
   ]
  },
  {
   "cell_type": "code",
   "execution_count": 54,
   "metadata": {},
   "outputs": [],
   "source": [
    "def renew_tensors(L, E):\n",
    "    for i in range(LEN_DF):\n",
    "        PROB_L_W[i] = prob_L_given_W(L, df['Word'][i])\n",
    "        PROB_E_W[i] = prob_E_given_W(E, df['Word'][i])\n",
    "        PROB_W[i] = df['prob_w'][i]\n"
   ]
  },
  {
   "cell_type": "markdown",
   "metadata": {},
   "source": [
    "## Helper Functions:"
   ]
  },
  {
   "cell_type": "code",
   "execution_count": 55,
   "metadata": {},
   "outputs": [],
   "source": [
    "# P(L | W)  \n",
    "def prob_L_given_W(L, word):\n",
    "    '''\n",
    "    L : ['S', 'S', '0', '0', 'S'], relationship between letters: OR\n",
    "    word : a string, eg: \"AAARR\"\n",
    "\n",
    "    return type: boolean\n",
    "    '''\n",
    "    for i in range(5):\n",
    "        if L[i] == word[i]:\n",
    "            return 1\n",
    "    return 0\n",
    "\n",
    "# P(E | W)  \n",
    "def prob_E_given_W(E, word):\n",
    "    '''\n",
    "    E: evidenvce, a nested list. relationship between elements: AND\n",
    "    word: a string from corpus\n",
    "    '''\n",
    "    for i in range(5):\n",
    "        if type(E[i]) == str and E[i] != word[i]:\n",
    "            return 0\n",
    "        elif type(E[i]) == list:\n",
    "            for letter in E[i]:\n",
    "                if word[i] == letter:\n",
    "                    return 0\n",
    "    return 1\n",
    "\n",
    "# Belief Helper Function: L contructor given E\n",
    "def L_constructor(letter, E):\n",
    "    '''\n",
    "    letter: letter we want to guess, a single char\n",
    "    E: evidence, a nested list\n",
    "    In this function, we construct the L with given evidence, and return L\n",
    "    '''\n",
    "    L = []\n",
    "    for i in range(5):\n",
    "        if type(E[i]) == str :\n",
    "            L.append('0')\n",
    "        elif type(E[i]) == list:\n",
    "            L.append(letter)\n",
    "    return L\n",
    "\n",
    "# Consturct a list for a specific evidence\n",
    "def E_contructor(correctly_guessed, incorrectly_guessed):\n",
    "    '''\n",
    "    correctly_guessed: a list with 5 char elements. eg: ['A', 'B', '0', '0', '0'], whose '0' stands for still unknown.\n",
    "    incorrectly_guessed: a set with some elements that won't appear in this word\n",
    "    return a nested list\n",
    "    '''\n",
    "    E = []\n",
    "    incorrectly_guessed = list(incorrectly_guessed) + [i for i in correctly_guessed if i != '0']\n",
    "    for i in range(5):\n",
    "        if correctly_guessed[i] != '0':\n",
    "            E.append(correctly_guessed[i])\n",
    "        else:\n",
    "            E.append(incorrectly_guessed)\n",
    "    return E\n",
    "\n",
    "# decode for letter\n",
    "def get_letter(i):\n",
    "    return chr(65 + i)\n",
    "\n",
    "def get_already_known(E):\n",
    "    '''\n",
    "    return a list that contains letter we've already used\n",
    "    '''\n",
    "    already_known = []\n",
    "    for element in E:\n",
    "        if type(element) == list:\n",
    "            already_known = element\n",
    "    return already_known\n"
   ]
  },
  {
   "cell_type": "markdown",
   "metadata": {},
   "source": [
    "## Predictive Result for L given E: P(L | E)"
   ]
  },
  {
   "cell_type": "code",
   "execution_count": 56,
   "metadata": {},
   "outputs": [],
   "source": [
    "def predictiveResult(L, E):\n",
    "    '''\n",
    "    return predictive result for L given E\n",
    "    '''\n",
    "    pred = 0\n",
    "    prob_E = PROB_E_W.dot(PROB_W).item()\n",
    "    pred = (PROB_L_W * PROB_E_W * PROB_W).sum().item() / prob_E\n",
    "    return pred"
   ]
  },
  {
   "cell_type": "markdown",
   "metadata": {},
   "source": [
    "## Inference for best guess"
   ]
  },
  {
   "cell_type": "code",
   "execution_count": 57,
   "metadata": {},
   "outputs": [],
   "source": [
    "def best_guess(E):\n",
    "    '''\n",
    "    para:\n",
    "    E: evidence, a nested list \n",
    "    It will return result of best guess with the given evidence and corpus\n",
    "    '''\n",
    "    best_result = ''\n",
    "    best_result_prob = 0\n",
    "    already_known = get_already_known(E)\n",
    "    \n",
    "    # for 26 letters from 'A' to 'Z', each 'letter' = 65 + i\n",
    "    for i in range(26):\n",
    "        letter = get_letter(i)\n",
    "        if letter in already_known:\n",
    "            continue\n",
    "        L = L_constructor(letter, E)\n",
    "        # print (\"letter \", letter, \": \", end='')\n",
    "        renew_tensors(L, E)\n",
    "        pred = predictiveResult(L, E)\n",
    "        if best_result_prob < pred:\n",
    "            best_result_prob = pred\n",
    "            best_result = letter\n",
    "\n",
    "    return best_result, best_result_prob    "
   ]
  },
  {
   "cell_type": "markdown",
   "metadata": {},
   "source": [
    "## Calculate all results for (b)"
   ]
  },
  {
   "cell_type": "code",
   "execution_count": 58,
   "metadata": {},
   "outputs": [
    {
     "name": "stdout",
     "output_type": "stream",
     "text": [
      "('E', 0.5394172389647974)\n",
      "('I', 0.6365554141009611)\n",
      "('U', 0.9866727159303579)\n",
      "('A', 1.0)\n",
      "('O', 0.8803418803418803)\n",
      "('I', 0.6365554141009611)\n",
      "('A', 0.8206845238095236)\n",
      "('E', 0.7520746887966805)\n",
      "('Y', 0.6269651101630529)\n"
     ]
    }
   ],
   "source": [
    "E = E_contructor(['0', '0', '0', '0', '0'], {})\n",
    "print(best_guess(E))\n",
    "E = E_contructor(['0', '0', '0', '0', '0'], {'E', 'O'})\n",
    "print(best_guess(E))\n",
    "E = E_contructor(['Q', '0', '0', '0', '0'], {})\n",
    "print(best_guess(E))\n",
    "E = E_contructor(['Q', '0', '0', '0', '0'], {'U'})\n",
    "print(best_guess(E))\n",
    "E = E_contructor(['0', '0', 'Z', 'E', '0'], {'A', 'D', 'I', 'R'})\n",
    "print(best_guess(E))\n",
    "E = E_contructor(['0', '0', '0', '0', '0'], {'E', 'O'})\n",
    "print(best_guess(E))\n",
    "E = E_contructor(['D', '0', '0', 'I', '0'], {})\n",
    "print(best_guess(E))\n",
    "E = E_contructor(['D', '0', '0', 'I', '0'], {'A'})\n",
    "print(best_guess(E))\n",
    "E = E_contructor(['0', 'U', '0', '0', '0'], {'A','E','I','O','S'})\n",
    "print(best_guess(E))"
   ]
  }
 ],
 "metadata": {
  "kernelspec": {
   "display_name": "Python 3.9.7 ('base')",
   "language": "python",
   "name": "python3"
  },
  "language_info": {
   "codemirror_mode": {
    "name": "ipython",
    "version": 3
   },
   "file_extension": ".py",
   "mimetype": "text/x-python",
   "name": "python",
   "nbconvert_exporter": "python",
   "pygments_lexer": "ipython3",
   "version": "3.9.7"
  },
  "orig_nbformat": 4,
  "vscode": {
   "interpreter": {
    "hash": "ad2bdc8ecc057115af97d19610ffacc2b4e99fae6737bb82f5d7fb13d2f2c186"
   }
  }
 },
 "nbformat": 4,
 "nbformat_minor": 2
}
