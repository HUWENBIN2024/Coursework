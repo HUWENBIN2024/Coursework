{
 "cells": [
  {
   "cell_type": "markdown",
   "metadata": {},
   "source": [
    "This notebook simulates a communcation system. In this communication system, a sender sends a sequence of bits through a communication channel. Each bit is corrupted by additive noise that is Gaussian distributed with mean $m$ and standard deviation sigma. The output from the channel is the input bit plus the Gaussian noise."
   ]
  },
  {
   "cell_type": "markdown",
   "metadata": {},
   "source": [
    "In this homework, we will use the pandas data analysis package to analyze the output values from the Gaussian channel, and model data using probability distributions studied in class."
   ]
  },
  {
   "cell_type": "markdown",
   "metadata": {},
   "source": [
    "The following code imports necessary libraries and defines some classes, which will be used below. You can skip this part and start reading from the Introduction."
   ]
  },
  {
   "cell_type": "code",
   "execution_count": 1,
   "metadata": {},
   "outputs": [],
   "source": [
    "import numpy as np\n",
    "import pandas as pd\n",
    "import scipy.stats \n",
    "import matplotlib.pyplot as plt\n",
    "\n",
    "class source:\n",
    "    '''source creating messages'''\n",
    "    \n",
    "    def __init__(self, p = 0.5, nbits = 20):\n",
    "        '''initialize the source'''\n",
    "        self.p = p # probability each bit is a 1\n",
    "        self.nbits = nbits # number of bits in the message\n",
    "        \n",
    "    def message(self):\n",
    "        '''create message'''\n",
    "        return list(1*(np.random.rand(self.nbits) > self.p))\n",
    "\n",
    "class Gaussian_noise_channel:\n",
    "    \"Gaussian noise channel for a bitstream of 1's and 0's\"\n",
    "    def __init__(self, m = 0, sigma = 0.25):\n",
    "        self.m = m\n",
    "        self.sigma = sigma\n",
    "        \n",
    "    def transmit(self, input_bitstream):\n",
    "        \"transmit an input bitstream\"\n",
    "        output_bitstream = input_bitstream + scipy.stats.norm.rvs(loc=self.m,scale=self.sigma,size=np.shape(input_bitstream))\n",
    "        return output_bitstream\n",
    "\n",
    "def data_frame(input_bitstream, output_values):\n",
    "    \"create a data frame to store the input and output\"\n",
    "    data = pd.DataFrame()\n",
    "    data['Input']= input_bitstream\n",
    "    data['Output']= output_values\n",
    "    return data \n",
    "\n",
    "def decode(msg_in):\n",
    "    \"decode message\"\n",
    "    decode_msg = np.zeros(np.size(msg_in))\n",
    "    for i in range(0,np.size(msg_in)):\n",
    "        if msg_in[i]>0.5:\n",
    "            decode_msg[i]=1\n",
    "    return decode_msg\n",
    "\n",
    "def count_errors(msg_in, msg_out):\n",
    "    \"count number of bit errors between two message\"\n",
    "    return sum( np.array(msg_in) != np.array(msg_out) )"
   ]
  },
  {
   "cell_type": "markdown",
   "metadata": {},
   "source": [
    "### Random bitsteams as messages\n",
    "\n",
    "Objects in the \"source\" class can create random bitstreams with varying lengths, as shown below. The value of **nbits** controsl the length of the bitstream.\n",
    "\n",
    "Re-run the cell a few times to see that the random message changes from time to time. \n",
    "\n",
    "You can also try changing the value assigned to **nbits**."
   ]
  },
  {
   "cell_type": "code",
   "execution_count": 2,
   "metadata": {},
   "outputs": [
    {
     "name": "stdout",
     "output_type": "stream",
     "text": [
      "This is the random message generated : [1, 0, 0, 1, 1]\n"
     ]
    }
   ],
   "source": [
    "src = source(nbits = 5) # create a source of random 5 bit bitstreams\n",
    "\n",
    "msg = src.message() # generate a message (bitstream) from the source\n",
    "\n",
    "print(f'This is the random message generated : {msg}')"
   ]
  },
  {
   "cell_type": "markdown",
   "metadata": {},
   "source": [
    "### Gaussian Channel Model\n",
    "\n",
    "The following code transmits a random bitstream through a Gaussian channel, and plots the input and output of the channel. The blue vertical lines show the size of the noise at each bit.\n",
    "\n",
    "Run the cell several times to see how the input and the noise change from run to run.\n",
    "\n",
    "You can also change the value of **sigma** in the channel to see how the variance of the Gaussian noise affects the received signal. Larger values of **sigma** correspond to more noise. Try **sigma** = 0.01, 0.1, 0.25 and 0.6 to see the effect."
   ]
  },
  {
   "cell_type": "code",
   "execution_count": 3,
   "metadata": {},
   "outputs": [
    {
     "name": "stdout",
     "output_type": "stream",
     "text": [
      " Input message = [0, 1, 0, 1, 0, 0, 1, 0, 0, 1, 1, 1, 0, 0, 1, 0, 0, 1, 0, 0]\n",
      "Received signal = [ 0.39146067  0.7105585   0.48539253  1.07360218 -0.05192925  0.03182728\n",
      "  1.35641575 -0.71208758  0.42753036  1.37561772  0.84420499  1.14011741\n",
      "  0.24476171  0.03032821  0.99105524 -0.46910708 -0.11313336  1.6452183\n",
      "  0.11453534 -0.02691882]\n"
     ]
    },
    {
     "data": {
      "image/png": "[encoded data removed]",
      "text/plain": [
       "<Figure size 432x288 with 1 Axes>"
      ]
     },
     "metadata": {
      "needs_background": "light"
     },
     "output_type": "display_data"
    }
   ],
   "source": [
    "num_bits = 20\n",
    "\n",
    "src = source(nbits = num_bits) # create a source of random 10 bit bitstreams\n",
    "msg = src.message() # generate a message (bitstream) from the source\n",
    "print(f' Input message = {msg}')\n",
    "\n",
    "ch1 =  Gaussian_noise_channel(m=0, sigma=0.25) # create a Gaussian channel with m=0 and sigma=0.25\n",
    "\n",
    "received_signal = ch1.transmit(msg) # transmit the message through the channel\n",
    "print(f'Received signal = {received_signal}')\n",
    "\n",
    "fig, ax = plt.subplots()\n",
    "n = np.arange(0,num_bits)\n",
    "ax.plot(n,msg,label='input',drawstyle='steps-mid')\n",
    "ax.plot(n,received_signal,'x',label='received')\n",
    "ax.vlines(n,msg,received_signal)\n",
    "ax.set_ylim([-0.75, 1.75])\n",
    "\n",
    "# label plots\n",
    "ax.legend()\n",
    "ax.set_xlabel('bit')\n",
    "ax.set_ylabel('value')\n",
    "plt.show()"
   ]
  },
  {
   "cell_type": "markdown",
   "metadata": {},
   "source": [
    "### Decoding the received signal\n",
    "\n",
    "The function decode compares each of the output values with a threshold 0.5. If an output value is greater than 0.5, then it assumes the transmitted bit was a 1, otherwise, it assumes the transmitted bit was a 0. \n",
    "\n",
    "The following code simulates the communication system and plots the input message, receieved signal and the decoded signal. If there is no error, the decoded signal (red dot) should coincide with the input (blue line). If it does not, then the noise pushed the received signal to the wrong side of the threshold.\n",
    "\n",
    "If you don't see any errors, try re-running the cell. You can also try changing the noise level."
   ]
  },
  {
   "cell_type": "code",
   "execution_count": 4,
   "metadata": {},
   "outputs": [
    {
     "data": {
      "image/png": "[encoded data removed]",
      "text/plain": [
       "<Figure size 432x288 with 1 Axes>"
      ]
     },
     "metadata": {
      "needs_background": "light"
     },
     "output_type": "display_data"
    }
   ],
   "source": [
    "num_bits = 20\n",
    "src = source(nbits = num_bits)\n",
    "msg = src.message()\n",
    "\n",
    "ch1 = Gaussian_noise_channel(sigma=0.4)\n",
    "\n",
    "#run simulations\n",
    "num_trials = 5\n",
    "error_record = np.zeros(num_trials) # create numpy array to hold record of bit errors\n",
    "\n",
    "n = np.arange(0,num_bits)\n",
    "msg = src.message() # create a random message\n",
    "\n",
    "received = ch1.transmit(msg) # transmit it over the channel\n",
    "decode_msg = decode(received)\n",
    "\n",
    "fig, ax = plt.subplots()\n",
    "ax.plot(n,msg,label='input',drawstyle='steps-mid')\n",
    "ax.plot(n,received,'x',label='received')\n",
    "ax.plot(n,0.5*np.ones(np.shape(n)),label='threshold')\n",
    "ax.vlines(n,msg,received)\n",
    "ax.plot(n,decode_msg,'o',label='decoded')\n",
    "\n",
    "# label plots\n",
    "ax.set_ylim([-0.75, 1.75])\n",
    "ax.legend(bbox_to_anchor=(1,1))\n",
    "error_record = count_errors(msg, decode_msg) # count and record the number of errors\n",
    "ax.set_title(f'The number of errors was {error_record}')\n",
    "plt.show()\n",
    "\n",
    "\n"
   ]
  },
  {
   "cell_type": "markdown",
   "metadata": {},
   "source": [
    "### Conditional densities of the received signals\n"
   ]
  },
  {
   "cell_type": "markdown",
   "metadata": {},
   "source": [
    "Because the added noise is Gaussian, it should not be surprising to you that the conditional densities of the recieved signals given the input (0 or 1) are Gaussian with mean 0 or 1 and standard deviation equal to the standard deviation of the noise. \n",
    "\n",
    "We verify this empirically below, by comparing the conditional histograms of the received signals given the input with the conditional densities predicted theoretically.\n",
    "\n",
    "We plot the conditional histograms of the data by using the groupby functionality of the pandas package in Python. The function **data_frame** creates a data frame that stores the input and output values. The code groups the output values based on the input bits (i.e., \"0\" or \"1\") using the **pandas.DataFrame.groupby** command. We plot the nomalized histograms of the output values for input bits \"0\" and \"1\", separately using the **matplotlib.axes.Axes.hist** command.\n",
    "\n",
    "We compute values of the Gaussian distribution in python using the **scipy.stats.norm.pdf** function. Note that the Gaussian distribution is also called the normal distribution."
   ]
  },
  {
   "cell_type": "code",
   "execution_count": 5,
   "metadata": {},
   "outputs": [
    {
     "data": {
      "image/png": "[encoded data removed]",
      "text/plain": [
       "<Figure size 432x288 with 1 Axes>"
      ]
     },
     "metadata": {
      "needs_background": "light"
     },
     "output_type": "display_data"
    }
   ],
   "source": [
    "num_bits = 100000\n",
    "sigma_noise = 0.25\n",
    "\n",
    "# create source and channel\n",
    "src = source(nbits = num_bits) # create a source of random 10 bit bitstreams\n",
    "ch =  Gaussian_noise_channel(sigma=sigma_noise) # create a Gaussian channel\n",
    "\n",
    "# transmit and receive message\n",
    "msg = src.message() # generate a message (bitstream) from the source\n",
    "received = ch.transmit(msg) # transmit the message through the channel\n",
    "\n",
    "# plot conditional pdfs\n",
    "\n",
    "#create figure\n",
    "fig, ax = plt.subplots()\n",
    "\n",
    "# compute and plot the conditional densities predicted theoretically\n",
    "x = np.arange(-1, 2 + 0.02, 0.02)  # generate values from 0 to 2 with step 0.02\n",
    "f_X_0 = scipy.stats.norm.pdf(x, loc = 0, scale = sigma_noise)\n",
    "ax.plot(x, f_X_0, 'b', label = 'Input=0 (Gaussian)')\n",
    "f_X_1 = scipy.stats.norm.pdf(x, loc = 1, scale = sigma_noise)\n",
    "ax.plot(x, f_X_1, 'r', label = 'Input=1 (Gaussian)')\n",
    "\n",
    "# plot the empirical distributions\n",
    "data = data_frame(msg, received) # store the input and output values in data\n",
    "groups = data.groupby('Input')['Output'] # group output values according to input values\n",
    "\n",
    "bin_edges = np.arange(-1,2+0.05,0.05)\n",
    "for  name,group in groups:\n",
    "    ax.hist(group, bins = bin_edges, density = True,label = name, alpha = 0.5)\n",
    "\n",
    "# label plots\n",
    "ax.legend(bbox_to_anchor = (1,1))\n",
    "ax.set_title('Conditional normalized histograms of the output message')\n",
    "ax.set_xlabel('The output')\n",
    "ax.set_ylabel('Density')\n",
    "plt.show()\n"
   ]
  },
  {
   "cell_type": "markdown",
   "metadata": {},
   "source": [
    "**Part a:** Calculate empirical mean $m$ and standard deviation $\\sigma$ of the output values over all of the data without regard to inputs. \n",
    "\n",
    "For a set of data $\\{r_1,r_2,⋯,r_n\\}$, the empirical mean is given by \n",
    "\n",
    "$m=\\frac{1}{n}\\sum_{i=1}^{n}r_i$\n",
    "\n",
    "and the empirical standard deviation is given by \n",
    "\n",
    "$\\sigma=\\sqrt{\\frac{1}{n-1}\\sum_{i=1}^{n}(r_i-m)^2}$\n",
    "\n",
    "You can compute the empirical mean and standard deviation easily using the **pandas.DataFrame.mean** and **pandas.DataFrame.std** functions applied to the dataframe **data** computed above.\n",
    "\n",
    "Also, use your knowledge about probability to calculate the mean and standard deviation theoretically under the assumptions about the conditional densities given the input above and the assumption that the input bits 0 and 1 are equally likely. Your formula should depend upon the value of **sigma_noise**\n",
    "\n",
    "The empirical estimate should be close to the value you calculate theoretically, even if you chnage the value of **sigma_noise** above."
   ]
  },
  {
   "cell_type": "code",
   "execution_count": 10,
   "metadata": {},
   "outputs": [
    {
     "name": "stdout",
     "output_type": "stream",
     "text": [
      "empirical mean of the the Output is:  0.5015018005038673\n",
      "empirical stantdard diviation of the the Output is:  0.5595016339410935\n",
      "the theoretical mean is:  0.5\n",
      "the theoretical standard diviation is:  0.5590169943749475\n"
     ]
    }
   ],
   "source": [
    "# put your code here\n",
    "mean = data[\"Output\"].mean()\n",
    "std = data[\"Output\"].std()\n",
    "print(\"empirical mean of the the Output is: \",mean)\n",
    "print(\"empirical stantdard diviation of the the Output is: \",std)\n",
    "\n",
    "mean_theoretical = 0.5*0+0.5*1\n",
    "std_theoretical = np.sqrt(0.5*(0.0**2+sigma_noise**2) + 0.5*(1.0**2+sigma_noise**2) - mean_theoretical**2)\n",
    "print(\"the theoretical mean is: \" , mean_theoretical)\n",
    "print(\"the theoretical standard diviation is: \", std_theoretical)"
   ]
  },
  {
   "cell_type": "markdown",
   "metadata": {},
   "source": [
    "**Part b:** Assume that the probability density function of the output values, $f_X(x)$, is given by a Gaussian distribution with theoretical mean and standard deviation computed in **Part a**.  \n",
    "\n",
    "Compare empirical histogram of the all of the received signal values without regard to the input value with the plot of $f_X(x)$ by plotting both together in the same figure for $x$ from -1 to 2. You can plot the empirical histogram similar to the way we did the conditional histogram above, only this time by applying the **hist** method to the **data** data frame, rather than to the groups as we did above. \n",
    "\n",
    "Does this look like a good model of the data? What are the good and bad aspects of the model."
   ]
  },
  {
   "cell_type": "code",
   "execution_count": null,
   "metadata": {},
   "outputs": [
    {
     "data": {
      "image/png": "[encoded data removed]",
      "text/plain": [
       "<Figure size 432x288 with 1 Axes>"
      ]
     },
     "metadata": {
      "needs_background": "light"
     },
     "output_type": "display_data"
    }
   ],
   "source": [
    "um_bits = 100000\n",
    "sigma_noise = 0.25\n",
    "\n",
    "# create source and channel\n",
    "src = source(nbits = num_bits) # create a source of random 10 bit bitstreams\n",
    "ch =  Gaussian_noise_channel(sigma=sigma_noise) # create a Gaussian channel\n",
    "\n",
    "# transmit and receive message\n",
    "msg = src.message() # generate a message (bitstream) from the source\n",
    "received = ch.transmit(msg) # transmit the message through the channel\n",
    "\n",
    "# plot conditional pdfs\n",
    "\n",
    "#create figure\n",
    "fig, ax = plt.subplots()\n",
    "\n",
    "# compute and plot the conditional densities predicted theoretically\n",
    "x = np.arange(-1, 2 + 0.02, 0.02)  # generate values from 0 to 2 with step 0.02\n",
    "new_f_X_0 = scipy.stats.norm.pdf(x, loc = mean, scale = std)\n",
    "ax.plot(x, new_f_X_0)\n",
    "\n",
    "\n",
    "# plot the empirical distributions\n",
    "data = data_frame(msg, received) # store the input and output values in data\n",
    "\n",
    "bin_edges = np.arange(-1,2+0.05,0.05)\n",
    "for group in data:\n",
    "    ax.hist(data.Output, bins = bin_edges, density = True, alpha = 0.5)\n",
    "\n",
    "# label plots\n",
    "ax.set_title('Conditional normalized histograms of the output message')\n",
    "ax.set_xlabel('The output')\n",
    "ax.set_ylabel('Density')\n",
    "plt.show()\n"
   ]
  },
  {
   "cell_type": "markdown",
   "metadata": {},
   "source": [
    "**Answer**\n"
   ]
  },
  {
   "cell_type": "markdown",
   "metadata": {},
   "source": [
    "**Part c:** \n",
    "\n",
    "Calculate the relative frequency of errors made during decoding of the received signal in our simulation.\n",
    "\n",
    "Compare the relative frequency to the probability of error calculated theoretically. \n",
    "\n",
    "To calculate the probability of error, first condition on the input and compute the probability of error given the input (0 or 1). Then use the total probability theorem to combine the two probabilities to a single probability of error.\n",
    "\n",
    "For example, given that the input is zero, an error will occur if the received signal (which is Gaussian distributed with mean 0 and standard devation **sigma_noise**) is greater than 0.5. You can compute this probability either using the cumulative distribution function **scipy.stats.norm.cdf** or the survival function **scipy.stats.norm.sf**"
   ]
  },
  {
   "cell_type": "code",
   "execution_count": null,
   "metadata": {},
   "outputs": [
    {
     "name": "stdout",
     "output_type": "stream",
     "text": [
      "the relative frequency of errors is:  0.02238\n",
      "the probability is:  0.0227501319481792\n"
     ]
    }
   ],
   "source": [
    "# put your code here\n",
    "list1 = []\n",
    "list2 = []\n",
    "for items in data['Output']:\n",
    "    if items <= 0.5:\n",
    "        items = 0\n",
    "    else: \n",
    "        items = 1\n",
    "    list1.append(items)\n",
    "for items in data['Input']:\n",
    "    list2.append(items)\n",
    "num_of_error = 0\n",
    "for i in range(0,len(list1)):\n",
    "    if list1[i] != list2[i]:\n",
    "        num_of_error = num_of_error + 1\n",
    "relative_frequency = num_of_error / len(list1)\n",
    "print(\"the relative frequency of errors is: \",relative_frequency)\n",
    "\n",
    "zero = 1- scipy.stats.norm.cdf(0.5,loc=0, scale=sigma_noise)\n",
    "one = scipy.stats.norm.cdf(0.5,loc=1, scale=sigma_noise)\n",
    "\n",
    "probability = 0.5*zero + 0.5*one\n",
    "print(\"the probability is: \", probability)\n",
    "\n"
   ]
  },
  {
   "cell_type": "markdown",
   "metadata": {},
   "source": [
    "**Part d:** Write code that simulate a transmission of **num_trials** times, where **num_bits** = 200, **num_trials** = 1000. Keep a record of the number of errors in each trial. \n",
    "\n",
    "\n",
    "Identify the theoretical distribution of the number of errors as a distribution we have studied in class. Compute the parameters of the theoretical distribution from the theoretical error calculations above. \n",
    "\n",
    "Plot the empirical histogram of the number of errors from -0.5 to 20 with bin size 1 and compare it to the plot of the theoretical distribution of the number of errors from -0.5 to 20."
   ]
  },
  {
   "cell_type": "code",
   "execution_count": null,
   "metadata": {},
   "outputs": [
    {
     "data": {
      "image/png": "[encoded data removed]",
      "text/plain": [
       "<Figure size 432x288 with 1 Axes>"
      ]
     },
     "metadata": {
      "needs_background": "light"
     },
     "output_type": "display_data"
    }
   ],
   "source": [
    "# put your code here\n",
    "num_bits = 200\n",
    "num_trials = 1000\n",
    "num_of_error = []\n",
    "\n",
    "for i in range(0,num_trials):\n",
    "    src = source(nbits = num_bits) # create a source of random 10 bit bitstreams\n",
    "    ch = Gaussian_noise_channel(sigma=sigma_noise)\n",
    "\n",
    "    msg = src.message() # generate a message (bitstream) from the source\n",
    "    received = ch.transmit(msg)\n",
    "\n",
    "    output = decode(received)\n",
    "    num_of_error.append(count_errors(msg,output))\n",
    "\n",
    "data = pd.DataFrame()\n",
    "data['Output']= num_of_error\n",
    "\n",
    "n = num_bits # number of bits\n",
    "p = probability # probability of success\n",
    "rv = scipy.stats.binom(n,p) # create a binomial random variable\n",
    "\n",
    "# create a figure and a single subplot\n",
    "fig, ax = plt.subplots() \n",
    "\n",
    "# plot pmf\n",
    "x = np.arange(0,20) # x assumes integer values from 0 to 20 (note stop value not included)\n",
    "ax.plot(x,rv.pmf(x),label='pmf') # plot the pmf of the random variable\n",
    "\n",
    "# plot histogram\n",
    "samples = data # draw sample of the random variable\n",
    "bin_edges = np.arange(-0.5,20,1) # create array of bin edges\n",
    "ax.hist(samples,bins=bin_edges,density=True,label='histogram') # plot histogram\n",
    "\n",
    "# create labels\n",
    "ax.legend() # show legend\n",
    "ax.set_title('Comparison of empirical histogram and pmf') # set title\n",
    "ax.set_xlabel('x') # set horizontal axis label\n",
    "ax.set_ylabel('pmf or relative frequency') # set vertical axis label\n",
    "plt.show()\n"
   ]
  },
  {
   "cell_type": "markdown",
   "metadata": {},
   "source": [
    "**Part e:** From the record of the number of bit errors generated in the simulations above, calculate the relative frequency that the number of bit errors is more than 5 bits."
   ]
  },
  {
   "cell_type": "code",
   "execution_count": null,
   "metadata": {},
   "outputs": [
    {
     "name": "stdout",
     "output_type": "stream",
     "text": [
      "0.325\n"
     ]
    }
   ],
   "source": [
    "# put your code here\n",
    "num_of_error_more_than_five = 0\n",
    "for items in num_of_error:\n",
    "    if items > 5:\n",
    "        num_of_error_more_than_five = num_of_error_more_than_five + 1\n",
    "relative_frequency = num_of_error_more_than_five / num_trials\n",
    "print(relative_frequency)"
   ]
  },
  {
   "cell_type": "markdown",
   "metadata": {},
   "source": [
    "**Part f:** From the theoretical distribution, compute the probability that the number of bit errors is more than 5. This should be close to the relative frequency you calculated in **Part e**."
   ]
  },
  {
   "cell_type": "code",
   "execution_count": null,
   "metadata": {},
   "outputs": [
    {
     "name": "stdout",
     "output_type": "stream",
     "text": [
      "0.3047357916440724\n"
     ]
    }
   ],
   "source": [
    "# put your code here\n",
    "probability_more_than_five = 1 - scipy.stats.binom.cdf(5,n,p)\n",
    "print(probability_more_than_five)"
   ]
  },
  {
   "cell_type": "code",
   "execution_count": null,
   "metadata": {},
   "outputs": [],
   "source": []
  }
 ],
 "metadata": {
  "interpreter": {
   "hash": "b3ba2566441a7c06988d0923437866b63cedc61552a5af99d1f4fb67d367b25f"
  },
  "kernelspec": {
   "display_name": "Python 3.8.8 64-bit ('base': conda)",
   "name": "python3"
  },
  "language_info": {
   "codemirror_mode": {
    "name": "ipython",
    "version": 3
   },
   "file_extension": ".py",
   "mimetype": "text/x-python",
   "name": "python",
   "nbconvert_exporter": "python",
   "pygments_lexer": "ipython3",
   "version": "3.8.8"
  }
 },
 "nbformat": 4,
 "nbformat_minor": 5
}
